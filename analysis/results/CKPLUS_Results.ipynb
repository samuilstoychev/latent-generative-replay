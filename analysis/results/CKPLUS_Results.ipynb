{
 "cells": [
  {
   "cell_type": "code",
   "execution_count": 1,
   "metadata": {},
   "outputs": [],
   "source": [
    "import matplotlib.pyplot as plt\n",
    "import numpy as np\n",
    "import pandas as pd"
   ]
  },
  {
   "cell_type": "markdown",
   "metadata": {},
   "source": [
    "# CK+ Results"
   ]
  },
  {
   "cell_type": "code",
   "execution_count": 2,
   "metadata": {},
   "outputs": [
    {
     "name": "stdout",
     "output_type": "stream",
     "text": [
      "/Users/samuilstoychev/Desktop/research_project_repo/research_project/experiments/ckplus/2021-04-26-04-51\n"
     ]
    }
   ],
   "source": [
    "%cd ~/Desktop/research_project_repo/research_project/experiments/ckplus/2021-04-26-04-51/"
   ]
  },
  {
   "cell_type": "code",
   "execution_count": 3,
   "metadata": {},
   "outputs": [
    {
     "name": "stdout",
     "output_type": "stream",
     "text": [
      "gr_112    grd_112   lgr_112   lgrd_112  lr_112    nr_112\r\n",
      "gr_1229   grd_1229  lgr_1229  lgrd_1229 lr_1229   nr_1229\r\n",
      "gr_8032   grd_8032  lgr_8032  lgrd_8032 lr_8032   nr_8032\r\n"
     ]
    }
   ],
   "source": [
    "!ls"
   ]
  },
  {
   "cell_type": "code",
   "execution_count": 4,
   "metadata": {},
   "outputs": [],
   "source": [
    "logs = !ls"
   ]
  },
  {
   "cell_type": "code",
   "execution_count": 4,
   "metadata": {},
   "outputs": [],
   "source": [
    "def extract_metrics_gpu(filename): \n",
    "    f = open(filename, 'r')\n",
    "    lines = f.readlines() \n",
    "    ram_init = None\n",
    "    ram_peak = None\n",
    "    cpu_init = None \n",
    "    cpu_end = None \n",
    "    for line in lines: \n",
    "        if \"=> Average precision\" in line: \n",
    "            accuracy = float(line.split(\" \")[-1])\n",
    "        if \"=> Total training time\" in line: \n",
    "            training_time = float(line.split(\" \")[-2])\n",
    "        if \"RAM BEFORE TRAINING:\" in line: \n",
    "            ram_init = float(line.split(\" \")[-1])\n",
    "        if \"PEAK TRAINING RAM:\" in line: \n",
    "            ram_peak = float(line.split(\" \")[-1])\n",
    "        if \"CPU BEFORE TRAINING:\" in line: \n",
    "            cpu_init = eval(line.split(\":\")[-1])\n",
    "        if \"CPU BEFORE EVALUATION:\" in line: \n",
    "            cpu_end = eval(line.split(\":\")[-1])\n",
    "        if \"GPU BEFORE EVALUATION:\" in line: \n",
    "            gpu_u, gpu_mem = eval(line.split(\":\")[-1])\n",
    "        \n",
    "    cpu_u, cpu_k = (cpu_end[0] - cpu_init[0], cpu_end[1] - cpu_init[1])\n",
    "    return (accuracy * 100, training_time, (ram_peak-ram_init) * 1024, cpu_u + cpu_k, gpu_u, gpu_mem)"
   ]
  },
  {
   "cell_type": "code",
   "execution_count": 5,
   "metadata": {},
   "outputs": [],
   "source": [
    "def calculate_metrics_gpu(files): \n",
    "    metrics = dict()\n",
    "    \n",
    "    for file in files: \n",
    "        method, seed = file.split(\"_\") \n",
    "        \n",
    "        if method in metrics: \n",
    "            metrics[method].append(extract_metrics_gpu(file))\n",
    "        else: \n",
    "            metrics[method] = [extract_metrics_gpu(file)] \n",
    "    \n",
    "    return metrics"
   ]
  },
  {
   "cell_type": "code",
   "execution_count": 6,
   "metadata": {},
   "outputs": [],
   "source": [
    "def get_means(metrics): \n",
    "    return {method: [sum(x)/len(x) for x in list(zip(*metrics[method]))] for method in metrics}"
   ]
  },
  {
   "cell_type": "code",
   "execution_count": 7,
   "metadata": {},
   "outputs": [],
   "source": [
    "def get_sds(metrics): \n",
    "    return {method: [np.std(x) for x in list(zip(*metrics[method]))] for method in metrics}"
   ]
  },
  {
   "cell_type": "code",
   "execution_count": 9,
   "metadata": {},
   "outputs": [],
   "source": [
    "ckplus_metrics = calculate_metrics_gpu(logs)\n",
    "ckplus_means = get_means(ckplus_metrics)\n",
    "ckplus_sds = get_sds(ckplus_metrics)"
   ]
  },
  {
   "cell_type": "code",
   "execution_count": 10,
   "metadata": {},
   "outputs": [],
   "source": [
    "df = pd.DataFrame(ckplus_means, index=['Accuracy (%)', \n",
    "                                 'Training time (s)', \n",
    "                                 'RAM Usage (MB)', \n",
    "                                 'CPU Usage (s)', \n",
    "                                 'GPU Usage (%)', \n",
    "                                 'GPU Memory (MB)'])\n",
    "df = df.filter([\"nr\", \"lr\", \"gr\", \"lgr\", \"grd\", \"lgrd\"])"
   ]
  },
  {
   "cell_type": "code",
   "execution_count": 11,
   "metadata": {},
   "outputs": [
    {
     "data": {
      "text/html": [
       "<div>\n",
       "<style scoped>\n",
       "    .dataframe tbody tr th:only-of-type {\n",
       "        vertical-align: middle;\n",
       "    }\n",
       "\n",
       "    .dataframe tbody tr th {\n",
       "        vertical-align: top;\n",
       "    }\n",
       "\n",
       "    .dataframe thead th {\n",
       "        text-align: right;\n",
       "    }\n",
       "</style>\n",
       "<table border=\"1\" class=\"dataframe\">\n",
       "  <thead>\n",
       "    <tr style=\"text-align: right;\">\n",
       "      <th></th>\n",
       "      <th>nr</th>\n",
       "      <th>lr</th>\n",
       "      <th>gr</th>\n",
       "      <th>lgr</th>\n",
       "      <th>grd</th>\n",
       "      <th>lgrd</th>\n",
       "    </tr>\n",
       "  </thead>\n",
       "  <tbody>\n",
       "    <tr>\n",
       "      <th>Accuracy (%)</th>\n",
       "      <td>82.723333</td>\n",
       "      <td>79.783333</td>\n",
       "      <td>75.080000</td>\n",
       "      <td>79.536667</td>\n",
       "      <td>72.946667</td>\n",
       "      <td>81.170000</td>\n",
       "    </tr>\n",
       "    <tr>\n",
       "      <th>Training time (s)</th>\n",
       "      <td>703.300000</td>\n",
       "      <td>625.966667</td>\n",
       "      <td>850.266667</td>\n",
       "      <td>678.900000</td>\n",
       "      <td>855.966667</td>\n",
       "      <td>673.066667</td>\n",
       "    </tr>\n",
       "    <tr>\n",
       "      <th>RAM Usage (MB)</th>\n",
       "      <td>15.488281</td>\n",
       "      <td>14.024740</td>\n",
       "      <td>17.139323</td>\n",
       "      <td>15.912760</td>\n",
       "      <td>17.074219</td>\n",
       "      <td>15.601562</td>\n",
       "    </tr>\n",
       "    <tr>\n",
       "      <th>CPU Usage (s)</th>\n",
       "      <td>755.233333</td>\n",
       "      <td>676.026667</td>\n",
       "      <td>902.680000</td>\n",
       "      <td>727.663333</td>\n",
       "      <td>909.466667</td>\n",
       "      <td>724.180000</td>\n",
       "    </tr>\n",
       "    <tr>\n",
       "      <th>GPU Usage (%)</th>\n",
       "      <td>24.021596</td>\n",
       "      <td>16.000256</td>\n",
       "      <td>34.772868</td>\n",
       "      <td>16.282441</td>\n",
       "      <td>31.767442</td>\n",
       "      <td>16.350161</td>\n",
       "    </tr>\n",
       "    <tr>\n",
       "      <th>GPU Memory (MB)</th>\n",
       "      <td>2095.333333</td>\n",
       "      <td>114.000000</td>\n",
       "      <td>2710.000000</td>\n",
       "      <td>14.000000</td>\n",
       "      <td>2710.000000</td>\n",
       "      <td>14.000000</td>\n",
       "    </tr>\n",
       "  </tbody>\n",
       "</table>\n",
       "</div>"
      ],
      "text/plain": [
       "                            nr          lr           gr         lgr  \\\n",
       "Accuracy (%)         82.723333   79.783333    75.080000   79.536667   \n",
       "Training time (s)   703.300000  625.966667   850.266667  678.900000   \n",
       "RAM Usage (MB)       15.488281   14.024740    17.139323   15.912760   \n",
       "CPU Usage (s)       755.233333  676.026667   902.680000  727.663333   \n",
       "GPU Usage (%)        24.021596   16.000256    34.772868   16.282441   \n",
       "GPU Memory (MB)    2095.333333  114.000000  2710.000000   14.000000   \n",
       "\n",
       "                           grd        lgrd  \n",
       "Accuracy (%)         72.946667   81.170000  \n",
       "Training time (s)   855.966667  673.066667  \n",
       "RAM Usage (MB)       17.074219   15.601562  \n",
       "CPU Usage (s)       909.466667  724.180000  \n",
       "GPU Usage (%)        31.767442   16.350161  \n",
       "GPU Memory (MB)    2710.000000   14.000000  "
      ]
     },
     "execution_count": 11,
     "metadata": {},
     "output_type": "execute_result"
    }
   ],
   "source": [
    "df"
   ]
  },
  {
   "cell_type": "markdown",
   "metadata": {},
   "source": [
    "# New CK+ Results"
   ]
  },
  {
   "cell_type": "code",
   "execution_count": 12,
   "metadata": {},
   "outputs": [
    {
     "name": "stdout",
     "output_type": "stream",
     "text": [
      "/Users/samuilstoychev/Desktop/research_project_repo/research_project/experiments/ckplus/2021-04-29-04-04\n"
     ]
    }
   ],
   "source": [
    "%cd ~/Desktop/research_project_repo/research_project/experiments/ckplus/2021-04-29-04-04/"
   ]
  },
  {
   "cell_type": "code",
   "execution_count": 13,
   "metadata": {},
   "outputs": [],
   "source": [
    "logs = !ls"
   ]
  },
  {
   "cell_type": "code",
   "execution_count": 14,
   "metadata": {},
   "outputs": [],
   "source": [
    "ckplus_metrics = calculate_metrics_gpu(logs)\n",
    "ckplus_means = get_means(ckplus_metrics)\n",
    "ckplus_sds = get_sds(ckplus_metrics)"
   ]
  },
  {
   "cell_type": "code",
   "execution_count": 15,
   "metadata": {},
   "outputs": [],
   "source": [
    "df = pd.DataFrame(ckplus_means, index=['Accuracy (%)', \n",
    "                                 'Training time (s)', \n",
    "                                 'RAM Usage (MB)', \n",
    "                                 'CPU Usage (s)', \n",
    "                                 'GPU Usage (%)', \n",
    "                                 'GPU Memory (MB)'])\n",
    "df = df.filter([\"nr\", \"lr\", \"gr\", \"lgr\", \"grd\", \"lgrd\"])"
   ]
  },
  {
   "cell_type": "code",
   "execution_count": 16,
   "metadata": {},
   "outputs": [
    {
     "data": {
      "text/html": [
       "<div>\n",
       "<style scoped>\n",
       "    .dataframe tbody tr th:only-of-type {\n",
       "        vertical-align: middle;\n",
       "    }\n",
       "\n",
       "    .dataframe tbody tr th {\n",
       "        vertical-align: top;\n",
       "    }\n",
       "\n",
       "    .dataframe thead th {\n",
       "        text-align: right;\n",
       "    }\n",
       "</style>\n",
       "<table border=\"1\" class=\"dataframe\">\n",
       "  <thead>\n",
       "    <tr style=\"text-align: right;\">\n",
       "      <th></th>\n",
       "      <th>nr</th>\n",
       "      <th>lr</th>\n",
       "      <th>gr</th>\n",
       "      <th>lgr</th>\n",
       "      <th>grd</th>\n",
       "      <th>lgrd</th>\n",
       "    </tr>\n",
       "  </thead>\n",
       "  <tbody>\n",
       "    <tr>\n",
       "      <th>Accuracy (%)</th>\n",
       "      <td>86.950000</td>\n",
       "      <td>85.563333</td>\n",
       "      <td>81.886667</td>\n",
       "      <td>78.020000</td>\n",
       "      <td>88.066667</td>\n",
       "      <td>85.756667</td>\n",
       "    </tr>\n",
       "    <tr>\n",
       "      <th>Training time (s)</th>\n",
       "      <td>559.133333</td>\n",
       "      <td>493.633333</td>\n",
       "      <td>696.666667</td>\n",
       "      <td>526.566667</td>\n",
       "      <td>691.800000</td>\n",
       "      <td>522.233333</td>\n",
       "    </tr>\n",
       "    <tr>\n",
       "      <th>RAM Usage (MB)</th>\n",
       "      <td>19.704427</td>\n",
       "      <td>14.207031</td>\n",
       "      <td>15.266927</td>\n",
       "      <td>15.614583</td>\n",
       "      <td>17.395833</td>\n",
       "      <td>15.641927</td>\n",
       "    </tr>\n",
       "    <tr>\n",
       "      <th>CPU Usage (s)</th>\n",
       "      <td>612.560000</td>\n",
       "      <td>544.436667</td>\n",
       "      <td>749.566667</td>\n",
       "      <td>575.663333</td>\n",
       "      <td>743.123333</td>\n",
       "      <td>573.386667</td>\n",
       "    </tr>\n",
       "    <tr>\n",
       "      <th>GPU Usage (%)</th>\n",
       "      <td>27.938074</td>\n",
       "      <td>19.829388</td>\n",
       "      <td>40.976190</td>\n",
       "      <td>20.710692</td>\n",
       "      <td>41.235014</td>\n",
       "      <td>21.213236</td>\n",
       "    </tr>\n",
       "    <tr>\n",
       "      <th>GPU Memory (MB)</th>\n",
       "      <td>2226.000000</td>\n",
       "      <td>112.000000</td>\n",
       "      <td>2710.000000</td>\n",
       "      <td>14.000000</td>\n",
       "      <td>2710.000000</td>\n",
       "      <td>14.000000</td>\n",
       "    </tr>\n",
       "  </tbody>\n",
       "</table>\n",
       "</div>"
      ],
      "text/plain": [
       "                            nr          lr           gr         lgr  \\\n",
       "Accuracy (%)         86.950000   85.563333    81.886667   78.020000   \n",
       "Training time (s)   559.133333  493.633333   696.666667  526.566667   \n",
       "RAM Usage (MB)       19.704427   14.207031    15.266927   15.614583   \n",
       "CPU Usage (s)       612.560000  544.436667   749.566667  575.663333   \n",
       "GPU Usage (%)        27.938074   19.829388    40.976190   20.710692   \n",
       "GPU Memory (MB)    2226.000000  112.000000  2710.000000   14.000000   \n",
       "\n",
       "                           grd        lgrd  \n",
       "Accuracy (%)         88.066667   85.756667  \n",
       "Training time (s)   691.800000  522.233333  \n",
       "RAM Usage (MB)       17.395833   15.641927  \n",
       "CPU Usage (s)       743.123333  573.386667  \n",
       "GPU Usage (%)        41.235014   21.213236  \n",
       "GPU Memory (MB)    2710.000000   14.000000  "
      ]
     },
     "execution_count": 16,
     "metadata": {},
     "output_type": "execute_result"
    }
   ],
   "source": [
    "df"
   ]
  },
  {
   "cell_type": "markdown",
   "metadata": {},
   "source": [
    "# New CK+ Results (new hyperparameters)"
   ]
  },
  {
   "cell_type": "code",
   "execution_count": 2,
   "metadata": {},
   "outputs": [
    {
     "name": "stdout",
     "output_type": "stream",
     "text": [
      "/Users/samuilstoychev/Desktop/research_project_repo/research_project/experiments/ckplus/2021-05-01-15-30\n"
     ]
    }
   ],
   "source": [
    "%cd ~/Desktop/research_project_repo/research_project/experiments/ckplus/2021-05-01-15-30/"
   ]
  },
  {
   "cell_type": "code",
   "execution_count": 3,
   "metadata": {},
   "outputs": [],
   "source": [
    "logs = !ls"
   ]
  },
  {
   "cell_type": "code",
   "execution_count": 8,
   "metadata": {},
   "outputs": [],
   "source": [
    "ckplus_metrics = calculate_metrics_gpu(logs)\n",
    "ckplus_means = get_means(ckplus_metrics)\n",
    "ckplus_sds = get_sds(ckplus_metrics)"
   ]
  },
  {
   "cell_type": "code",
   "execution_count": 9,
   "metadata": {},
   "outputs": [],
   "source": [
    "df = pd.DataFrame(ckplus_means, index=['Accuracy (%)', \n",
    "                                 'Training time (s)', \n",
    "                                 'RAM Usage (MB)', \n",
    "                                 'CPU Usage (s)', \n",
    "                                 'GPU Usage (%)', \n",
    "                                 'GPU Memory (MB)'])\n",
    "df = df.filter([\"nr\", \"lr\", \"gr\", \"lgr\", \"grd\", \"lgrd\"])"
   ]
  },
  {
   "cell_type": "code",
   "execution_count": 10,
   "metadata": {},
   "outputs": [
    {
     "data": {
      "text/html": [
       "<div>\n",
       "<style scoped>\n",
       "    .dataframe tbody tr th:only-of-type {\n",
       "        vertical-align: middle;\n",
       "    }\n",
       "\n",
       "    .dataframe tbody tr th {\n",
       "        vertical-align: top;\n",
       "    }\n",
       "\n",
       "    .dataframe thead th {\n",
       "        text-align: right;\n",
       "    }\n",
       "</style>\n",
       "<table border=\"1\" class=\"dataframe\">\n",
       "  <thead>\n",
       "    <tr style=\"text-align: right;\">\n",
       "      <th></th>\n",
       "      <th>nr</th>\n",
       "      <th>lr</th>\n",
       "      <th>gr</th>\n",
       "      <th>lgr</th>\n",
       "      <th>grd</th>\n",
       "      <th>lgrd</th>\n",
       "    </tr>\n",
       "  </thead>\n",
       "  <tbody>\n",
       "    <tr>\n",
       "      <td>Accuracy (%)</td>\n",
       "      <td>85.573333</td>\n",
       "      <td>85.446667</td>\n",
       "      <td>81.083333</td>\n",
       "      <td>80.356667</td>\n",
       "      <td>81.436667</td>\n",
       "      <td>84.930000</td>\n",
       "    </tr>\n",
       "    <tr>\n",
       "      <td>Training time (s)</td>\n",
       "      <td>1096.000000</td>\n",
       "      <td>978.933333</td>\n",
       "      <td>1463.133333</td>\n",
       "      <td>1034.700000</td>\n",
       "      <td>1480.900000</td>\n",
       "      <td>1030.866667</td>\n",
       "    </tr>\n",
       "    <tr>\n",
       "      <td>RAM Usage (MB)</td>\n",
       "      <td>22.708333</td>\n",
       "      <td>14.311198</td>\n",
       "      <td>15.330729</td>\n",
       "      <td>15.897135</td>\n",
       "      <td>15.613281</td>\n",
       "      <td>15.520833</td>\n",
       "    </tr>\n",
       "    <tr>\n",
       "      <td>CPU Usage (s)</td>\n",
       "      <td>1206.696667</td>\n",
       "      <td>1082.183333</td>\n",
       "      <td>1557.976667</td>\n",
       "      <td>1127.570000</td>\n",
       "      <td>1576.466667</td>\n",
       "      <td>1123.496667</td>\n",
       "    </tr>\n",
       "    <tr>\n",
       "      <td>GPU Usage (%)</td>\n",
       "      <td>29.228120</td>\n",
       "      <td>20.731327</td>\n",
       "      <td>45.486425</td>\n",
       "      <td>20.978260</td>\n",
       "      <td>44.584223</td>\n",
       "      <td>21.217949</td>\n",
       "    </tr>\n",
       "    <tr>\n",
       "      <td>GPU Memory (MB)</td>\n",
       "      <td>2826.000000</td>\n",
       "      <td>218.666667</td>\n",
       "      <td>4348.000000</td>\n",
       "      <td>14.000000</td>\n",
       "      <td>4348.000000</td>\n",
       "      <td>14.000000</td>\n",
       "    </tr>\n",
       "  </tbody>\n",
       "</table>\n",
       "</div>"
      ],
      "text/plain": [
       "                            nr           lr           gr          lgr  \\\n",
       "Accuracy (%)         85.573333    85.446667    81.083333    80.356667   \n",
       "Training time (s)  1096.000000   978.933333  1463.133333  1034.700000   \n",
       "RAM Usage (MB)       22.708333    14.311198    15.330729    15.897135   \n",
       "CPU Usage (s)      1206.696667  1082.183333  1557.976667  1127.570000   \n",
       "GPU Usage (%)        29.228120    20.731327    45.486425    20.978260   \n",
       "GPU Memory (MB)    2826.000000   218.666667  4348.000000    14.000000   \n",
       "\n",
       "                           grd         lgrd  \n",
       "Accuracy (%)         81.436667    84.930000  \n",
       "Training time (s)  1480.900000  1030.866667  \n",
       "RAM Usage (MB)       15.613281    15.520833  \n",
       "CPU Usage (s)      1576.466667  1123.496667  \n",
       "GPU Usage (%)        44.584223    21.217949  \n",
       "GPU Memory (MB)    4348.000000    14.000000  "
      ]
     },
     "execution_count": 10,
     "metadata": {},
     "output_type": "execute_result"
    }
   ],
   "source": [
    "df"
   ]
  }
 ],
 "metadata": {
  "kernelspec": {
   "display_name": "Python 3",
   "language": "python",
   "name": "python3"
  },
  "language_info": {
   "codemirror_mode": {
    "name": "ipython",
    "version": 3
   },
   "file_extension": ".py",
   "mimetype": "text/x-python",
   "name": "python",
   "nbconvert_exporter": "python",
   "pygments_lexer": "ipython3",
   "version": "3.7.4"
  }
 },
 "nbformat": 4,
 "nbformat_minor": 2
}
