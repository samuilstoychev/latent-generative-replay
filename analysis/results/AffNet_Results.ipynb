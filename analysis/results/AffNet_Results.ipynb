{
 "cells": [
  {
   "cell_type": "markdown",
   "metadata": {},
   "source": [
    "# AffNet Results"
   ]
  },
  {
   "cell_type": "code",
   "execution_count": 30,
   "metadata": {},
   "outputs": [],
   "source": [
    "import matplotlib.pyplot as plt\n",
    "import numpy as np\n",
    "import pandas as pd\n",
    "\n",
    "pd.options.display.float_format = \"{:,.2f}\".format"
   ]
  },
  {
   "cell_type": "code",
   "execution_count": 31,
   "metadata": {},
   "outputs": [],
   "source": [
    "def extract_metrics_gpu(filename): \n",
    "    f = open(filename, 'r')\n",
    "    lines = f.readlines() \n",
    "    ram_init = None\n",
    "    ram_peak = None\n",
    "    cpu_init = None \n",
    "    cpu_end = None \n",
    "    for line in lines: \n",
    "        if \"=> Average precision\" in line: \n",
    "            accuracy = float(line.split(\" \")[-1])\n",
    "        if \"=> Total training time\" in line: \n",
    "            training_time = float(line.split(\" \")[-2])\n",
    "        if \"RAM BEFORE TRAINING:\" in line: \n",
    "            ram_init = float(line.split(\" \")[-1])\n",
    "        if \"PEAK TRAINING RAM:\" in line: \n",
    "            ram_peak = float(line.split(\" \")[-1])\n",
    "        if \"CPU BEFORE TRAINING:\" in line: \n",
    "            cpu_init = eval(line.split(\":\")[-1])\n",
    "        if \"CPU BEFORE EVALUATION:\" in line: \n",
    "            cpu_end = eval(line.split(\":\")[-1])\n",
    "        if \"GPU BEFORE EVALUATION:\" in line:\n",
    "            gpu_u, _ = eval(line.split(\":\")[-1])\n",
    "        if \"Peak mem and init mem:\" in line:\n",
    "            gpu_mem = float(line.split(\" \")[-2])\n",
    "        \n",
    "    cpu_u, cpu_k = (cpu_end[0] - cpu_init[0], cpu_end[1] - cpu_init[1])\n",
    "    return (accuracy * 100, training_time, (ram_peak-ram_init) * 1024, cpu_u + cpu_k, gpu_u, gpu_mem)"
   ]
  },
  {
   "cell_type": "code",
   "execution_count": 32,
   "metadata": {},
   "outputs": [],
   "source": [
    "def calculate_metrics_gpu(files): \n",
    "    metrics = dict()\n",
    "    \n",
    "    for file in files: \n",
    "        method, seed, _ = file.split(\"_\") \n",
    "        \n",
    "        if method in metrics: \n",
    "            metrics[method].append(extract_metrics_gpu(file))\n",
    "        else: \n",
    "            metrics[method] = [extract_metrics_gpu(file)] \n",
    "    \n",
    "    return metrics"
   ]
  },
  {
   "cell_type": "code",
   "execution_count": 33,
   "metadata": {},
   "outputs": [],
   "source": [
    "def get_means(metrics): \n",
    "    return {method: [sum(x)/len(x) for x in list(zip(*metrics[method]))] for method in metrics}"
   ]
  },
  {
   "cell_type": "code",
   "execution_count": 34,
   "metadata": {},
   "outputs": [],
   "source": [
    "def get_sds(metrics): \n",
    "    return {method: [np.std(x) for x in list(zip(*metrics[method]))] for method in metrics}"
   ]
  },
  {
   "cell_type": "markdown",
   "metadata": {},
   "source": [
    "# 1. AlexNet Task-IL Results "
   ]
  },
  {
   "cell_type": "code",
   "execution_count": 35,
   "metadata": {},
   "outputs": [
    {
     "name": "stdout",
     "output_type": "stream",
     "text": [
      "/Users/nikhilchuramani/Desktop/Cambridge/PhDWork/Projects/LatentGenerativeReplay/experiments/affectnet/2022-06-27-10-57\n"
     ]
    }
   ],
   "source": [
    "%cd /Users/nikhilchuramani/Desktop/Cambridge/PhDWork/Projects/LatentGenerativeReplay/experiments/affectnet/2022-06-27-10-57"
   ]
  },
  {
   "cell_type": "code",
   "execution_count": 36,
   "metadata": {},
   "outputs": [],
   "source": [
    "logs = !ls\n",
    "logs = [x for x in logs if \"ALEXNET\" in x]"
   ]
  },
  {
   "cell_type": "code",
   "execution_count": 37,
   "metadata": {},
   "outputs": [],
   "source": [
    "ckp_metrics = calculate_metrics_gpu(logs)\n",
    "ckp_means = get_means(ckp_metrics)\n",
    "ckp_sds = get_sds(ckp_metrics)"
   ]
  },
  {
   "cell_type": "code",
   "execution_count": 38,
   "metadata": {},
   "outputs": [],
   "source": [
    "df = pd.DataFrame(ckp_means, index=['Accuracy (%)',\n",
    "                                 'Training time (s)', \n",
    "                                 'RAM Usage (MB)', \n",
    "                                 'CPU Usage (s)', \n",
    "                                 'GPU Usage (%)', \n",
    "                                 'Peak GPU Memory (MB)'])\n",
    "df = df.filter([\"nr\", \"lr\", \"gr\", \"lgr\", \"grd\", \"lgrd\"])"
   ]
  },
  {
   "cell_type": "code",
   "execution_count": 39,
   "metadata": {},
   "outputs": [
    {
     "data": {
      "text/plain": "                           nr       lr       gr      lgr      grd     lgrd\nAccuracy (%)            67.38    65.25    65.22    63.32    69.07    67.24\nTraining time (s)    4,832.23 4,860.53 5,309.63 4,809.50 5,105.90 4,947.90\nRAM Usage (MB)         245.00    89.70    92.84    68.11    89.34    82.33\nCPU Usage (s)        4,975.21 5,005.71 5,455.58 4,951.63 5,249.81 5,093.02\nGPU Usage (%)            1.54     1.07     7.31     1.29     7.34     1.31\nPeak GPU Memory (MB) 5,217.33 1,818.00 5,836.00 1,542.00 5,836.00 1,542.00",
      "text/html": "<div>\n<style scoped>\n    .dataframe tbody tr th:only-of-type {\n        vertical-align: middle;\n    }\n\n    .dataframe tbody tr th {\n        vertical-align: top;\n    }\n\n    .dataframe thead th {\n        text-align: right;\n    }\n</style>\n<table border=\"1\" class=\"dataframe\">\n  <thead>\n    <tr style=\"text-align: right;\">\n      <th></th>\n      <th>nr</th>\n      <th>lr</th>\n      <th>gr</th>\n      <th>lgr</th>\n      <th>grd</th>\n      <th>lgrd</th>\n    </tr>\n  </thead>\n  <tbody>\n    <tr>\n      <th>Accuracy (%)</th>\n      <td>67.38</td>\n      <td>65.25</td>\n      <td>65.22</td>\n      <td>63.32</td>\n      <td>69.07</td>\n      <td>67.24</td>\n    </tr>\n    <tr>\n      <th>Training time (s)</th>\n      <td>4,832.23</td>\n      <td>4,860.53</td>\n      <td>5,309.63</td>\n      <td>4,809.50</td>\n      <td>5,105.90</td>\n      <td>4,947.90</td>\n    </tr>\n    <tr>\n      <th>RAM Usage (MB)</th>\n      <td>245.00</td>\n      <td>89.70</td>\n      <td>92.84</td>\n      <td>68.11</td>\n      <td>89.34</td>\n      <td>82.33</td>\n    </tr>\n    <tr>\n      <th>CPU Usage (s)</th>\n      <td>4,975.21</td>\n      <td>5,005.71</td>\n      <td>5,455.58</td>\n      <td>4,951.63</td>\n      <td>5,249.81</td>\n      <td>5,093.02</td>\n    </tr>\n    <tr>\n      <th>GPU Usage (%)</th>\n      <td>1.54</td>\n      <td>1.07</td>\n      <td>7.31</td>\n      <td>1.29</td>\n      <td>7.34</td>\n      <td>1.31</td>\n    </tr>\n    <tr>\n      <th>Peak GPU Memory (MB)</th>\n      <td>5,217.33</td>\n      <td>1,818.00</td>\n      <td>5,836.00</td>\n      <td>1,542.00</td>\n      <td>5,836.00</td>\n      <td>1,542.00</td>\n    </tr>\n  </tbody>\n</table>\n</div>"
     },
     "execution_count": 39,
     "metadata": {},
     "output_type": "execute_result"
    }
   ],
   "source": [
    "df"
   ]
  },
  {
   "cell_type": "code",
   "execution_count": 40,
   "metadata": {},
   "outputs": [
    {
     "name": "stdout",
     "output_type": "stream",
     "text": [
      "\\begin{tabular}{lrrrrrr}\n",
      "\\toprule\n",
      "{} &       nr &       lr &       gr &      lgr &      grd &     lgrd \\\\\n",
      "\\midrule\n",
      "Accuracy (\\%)         &    67.38 &    65.25 &    65.22 &    63.32 &    69.07 &    67.24 \\\\\n",
      "Training time (s)    & 4,832.23 & 4,860.53 & 5,309.63 & 4,809.50 & 5,105.90 & 4,947.90 \\\\\n",
      "RAM Usage (MB)       &   245.00 &    89.70 &    92.84 &    68.11 &    89.34 &    82.33 \\\\\n",
      "CPU Usage (s)        & 4,975.21 & 5,005.71 & 5,455.58 & 4,951.63 & 5,249.81 & 5,093.02 \\\\\n",
      "GPU Usage (\\%)        &     1.54 &     1.07 &     7.31 &     1.29 &     7.34 &     1.31 \\\\\n",
      "Peak GPU Memory (MB) & 5,217.33 & 1,818.00 & 5,836.00 & 1,542.00 & 5,836.00 & 1,542.00 \\\\\n",
      "\\bottomrule\n",
      "\\end{tabular}\n",
      "\n"
     ]
    }
   ],
   "source": [
    "print(df.to_latex())"
   ]
  },
  {
   "cell_type": "markdown",
   "metadata": {},
   "source": [
    "# 2. MobileNet Task-IL Results "
   ]
  },
  {
   "cell_type": "code",
   "execution_count": 41,
   "metadata": {},
   "outputs": [
    {
     "name": "stdout",
     "output_type": "stream",
     "text": [
      "/Users/nikhilchuramani/Desktop/Cambridge/PhDWork/Projects/LatentGenerativeReplay/experiments/affectnet/2022-06-27-10-57\n"
     ]
    }
   ],
   "source": [
    "%cd /Users/nikhilchuramani/Desktop/Cambridge/PhDWork/Projects/LatentGenerativeReplay/experiments/affectnet/2022-06-27-10-57"
   ]
  },
  {
   "cell_type": "code",
   "execution_count": 42,
   "metadata": {},
   "outputs": [],
   "source": [
    "logs = !ls\n",
    "logs = [x for x in logs if \"MOBILENET-V2\" in x]"
   ]
  },
  {
   "cell_type": "code",
   "execution_count": 43,
   "metadata": {},
   "outputs": [],
   "source": [
    "ckp_metrics = calculate_metrics_gpu(logs)\n",
    "ckp_means = get_means(ckp_metrics)\n",
    "ckp_sds = get_sds(ckp_metrics)"
   ]
  },
  {
   "cell_type": "code",
   "execution_count": 44,
   "metadata": {},
   "outputs": [],
   "source": [
    "df = pd.DataFrame(ckp_means, index=['Accuracy (%)',\n",
    "                                 'Training time (s)', \n",
    "                                 'RAM Usage (MB)', \n",
    "                                 'CPU Usage (s)', \n",
    "                                 'GPU Usage (%)', \n",
    "                                 'Peak GPU Memory (MB)'])\n",
    "\n",
    "df = df.filter([\"nr\", \"lr\", \"gr\", \"lgr\", \"grd\", \"lgrd\"])"
   ]
  },
  {
   "cell_type": "code",
   "execution_count": 45,
   "metadata": {},
   "outputs": [
    {
     "data": {
      "text/plain": "                           nr       lr       gr      lgr      grd     lgrd\nAccuracy (%)            59.76    59.23    53.06    53.37    53.38    59.41\nTraining time (s)    5,013.67 5,062.03 5,480.90 4,974.10 5,403.23 5,016.10\nRAM Usage (MB)         219.04   338.72    86.55    92.30    88.13    87.28\nCPU Usage (s)        5,158.61 5,209.47 5,631.19 5,117.24 5,553.72 5,160.64\nGPU Usage (%)            4.04     2.54    10.42     2.72    10.95     2.60\nPeak GPU Memory (MB) 4,919.33 1,676.67 5,414.00 1,604.00 5,414.00 1,604.00",
      "text/html": "<div>\n<style scoped>\n    .dataframe tbody tr th:only-of-type {\n        vertical-align: middle;\n    }\n\n    .dataframe tbody tr th {\n        vertical-align: top;\n    }\n\n    .dataframe thead th {\n        text-align: right;\n    }\n</style>\n<table border=\"1\" class=\"dataframe\">\n  <thead>\n    <tr style=\"text-align: right;\">\n      <th></th>\n      <th>nr</th>\n      <th>lr</th>\n      <th>gr</th>\n      <th>lgr</th>\n      <th>grd</th>\n      <th>lgrd</th>\n    </tr>\n  </thead>\n  <tbody>\n    <tr>\n      <th>Accuracy (%)</th>\n      <td>59.76</td>\n      <td>59.23</td>\n      <td>53.06</td>\n      <td>53.37</td>\n      <td>53.38</td>\n      <td>59.41</td>\n    </tr>\n    <tr>\n      <th>Training time (s)</th>\n      <td>5,013.67</td>\n      <td>5,062.03</td>\n      <td>5,480.90</td>\n      <td>4,974.10</td>\n      <td>5,403.23</td>\n      <td>5,016.10</td>\n    </tr>\n    <tr>\n      <th>RAM Usage (MB)</th>\n      <td>219.04</td>\n      <td>338.72</td>\n      <td>86.55</td>\n      <td>92.30</td>\n      <td>88.13</td>\n      <td>87.28</td>\n    </tr>\n    <tr>\n      <th>CPU Usage (s)</th>\n      <td>5,158.61</td>\n      <td>5,209.47</td>\n      <td>5,631.19</td>\n      <td>5,117.24</td>\n      <td>5,553.72</td>\n      <td>5,160.64</td>\n    </tr>\n    <tr>\n      <th>GPU Usage (%)</th>\n      <td>4.04</td>\n      <td>2.54</td>\n      <td>10.42</td>\n      <td>2.72</td>\n      <td>10.95</td>\n      <td>2.60</td>\n    </tr>\n    <tr>\n      <th>Peak GPU Memory (MB)</th>\n      <td>4,919.33</td>\n      <td>1,676.67</td>\n      <td>5,414.00</td>\n      <td>1,604.00</td>\n      <td>5,414.00</td>\n      <td>1,604.00</td>\n    </tr>\n  </tbody>\n</table>\n</div>"
     },
     "execution_count": 45,
     "metadata": {},
     "output_type": "execute_result"
    }
   ],
   "source": [
    "df"
   ]
  },
  {
   "cell_type": "code",
   "execution_count": 46,
   "metadata": {},
   "outputs": [
    {
     "name": "stdout",
     "output_type": "stream",
     "text": [
      "\\begin{tabular}{lrrrrrr}\n",
      "\\toprule\n",
      "{} &       nr &       lr &       gr &      lgr &      grd &     lgrd \\\\\n",
      "\\midrule\n",
      "Accuracy (\\%)         &    59.76 &    59.23 &    53.06 &    53.37 &    53.38 &    59.41 \\\\\n",
      "Training time (s)    & 5,013.67 & 5,062.03 & 5,480.90 & 4,974.10 & 5,403.23 & 5,016.10 \\\\\n",
      "RAM Usage (MB)       &   219.04 &   338.72 &    86.55 &    92.30 &    88.13 &    87.28 \\\\\n",
      "CPU Usage (s)        & 5,158.61 & 5,209.47 & 5,631.19 & 5,117.24 & 5,553.72 & 5,160.64 \\\\\n",
      "GPU Usage (\\%)        &     4.04 &     2.54 &    10.42 &     2.72 &    10.95 &     2.60 \\\\\n",
      "Peak GPU Memory (MB) & 4,919.33 & 1,676.67 & 5,414.00 & 1,604.00 & 5,414.00 & 1,604.00 \\\\\n",
      "\\bottomrule\n",
      "\\end{tabular}\n",
      "\n"
     ]
    }
   ],
   "source": [
    "print(df.to_latex())"
   ]
  },
  {
   "cell_type": "markdown",
   "metadata": {},
   "source": [
    "# 3. ResNet Task-IL Results "
   ]
  },
  {
   "cell_type": "code",
   "execution_count": 47,
   "metadata": {},
   "outputs": [
    {
     "name": "stdout",
     "output_type": "stream",
     "text": [
      "/Users/nikhilchuramani/Desktop/Cambridge/PhDWork/Projects/LatentGenerativeReplay/experiments/affectnet/2022-06-27-10-57\n"
     ]
    }
   ],
   "source": [
    "%cd /Users/nikhilchuramani/Desktop/Cambridge/PhDWork/Projects/LatentGenerativeReplay/experiments/affectnet/2022-06-27-10-57"
   ]
  },
  {
   "cell_type": "code",
   "execution_count": 48,
   "metadata": {},
   "outputs": [],
   "source": [
    "logs = !ls\n",
    "logs = [x for x in logs if \"RESNET-18\" in x]"
   ]
  },
  {
   "cell_type": "code",
   "execution_count": 49,
   "metadata": {},
   "outputs": [],
   "source": [
    "ckp_metrics = calculate_metrics_gpu(logs)\n",
    "ckp_means = get_means(ckp_metrics)\n",
    "ckp_sds = get_sds(ckp_metrics)"
   ]
  },
  {
   "cell_type": "code",
   "execution_count": 50,
   "metadata": {},
   "outputs": [],
   "source": [
    "df = pd.DataFrame(ckp_means, index=['Accuracy (%)',\n",
    "                                 'Training time (s)', \n",
    "                                 'RAM Usage (MB)', \n",
    "                                 'CPU Usage (s)', \n",
    "                                 'GPU Usage (%)', \n",
    "                                 'Peak GPU Memory (MB)'])\n",
    "\n",
    "df = df.filter([\"nr\", \"lr\", \"gr\", \"lgr\", \"grd\", \"lgrd\"])"
   ]
  },
  {
   "cell_type": "code",
   "execution_count": 51,
   "metadata": {},
   "outputs": [
    {
     "data": {
      "text/plain": "                           nr       lr       gr      lgr      grd     lgrd\nAccuracy (%)            61.36    61.84    52.69    53.71    56.26    60.83\nTraining time (s)    5,068.93 4,884.23 5,272.73 4,995.77 5,271.57 4,955.30\nRAM Usage (MB)         492.77    85.84    86.56    83.60    88.27    80.14\nCPU Usage (s)        5,218.62 5,029.07 5,417.99 5,136.38 5,415.59 5,095.95\nGPU Usage (%)            3.00     2.22     9.76     2.35    10.27     2.22\nPeak GPU Memory (MB) 4,990.67 1,578.67 5,248.00 1,554.00 5,248.00 1,554.00",
      "text/html": "<div>\n<style scoped>\n    .dataframe tbody tr th:only-of-type {\n        vertical-align: middle;\n    }\n\n    .dataframe tbody tr th {\n        vertical-align: top;\n    }\n\n    .dataframe thead th {\n        text-align: right;\n    }\n</style>\n<table border=\"1\" class=\"dataframe\">\n  <thead>\n    <tr style=\"text-align: right;\">\n      <th></th>\n      <th>nr</th>\n      <th>lr</th>\n      <th>gr</th>\n      <th>lgr</th>\n      <th>grd</th>\n      <th>lgrd</th>\n    </tr>\n  </thead>\n  <tbody>\n    <tr>\n      <th>Accuracy (%)</th>\n      <td>61.36</td>\n      <td>61.84</td>\n      <td>52.69</td>\n      <td>53.71</td>\n      <td>56.26</td>\n      <td>60.83</td>\n    </tr>\n    <tr>\n      <th>Training time (s)</th>\n      <td>5,068.93</td>\n      <td>4,884.23</td>\n      <td>5,272.73</td>\n      <td>4,995.77</td>\n      <td>5,271.57</td>\n      <td>4,955.30</td>\n    </tr>\n    <tr>\n      <th>RAM Usage (MB)</th>\n      <td>492.77</td>\n      <td>85.84</td>\n      <td>86.56</td>\n      <td>83.60</td>\n      <td>88.27</td>\n      <td>80.14</td>\n    </tr>\n    <tr>\n      <th>CPU Usage (s)</th>\n      <td>5,218.62</td>\n      <td>5,029.07</td>\n      <td>5,417.99</td>\n      <td>5,136.38</td>\n      <td>5,415.59</td>\n      <td>5,095.95</td>\n    </tr>\n    <tr>\n      <th>GPU Usage (%)</th>\n      <td>3.00</td>\n      <td>2.22</td>\n      <td>9.76</td>\n      <td>2.35</td>\n      <td>10.27</td>\n      <td>2.22</td>\n    </tr>\n    <tr>\n      <th>Peak GPU Memory (MB)</th>\n      <td>4,990.67</td>\n      <td>1,578.67</td>\n      <td>5,248.00</td>\n      <td>1,554.00</td>\n      <td>5,248.00</td>\n      <td>1,554.00</td>\n    </tr>\n  </tbody>\n</table>\n</div>"
     },
     "execution_count": 51,
     "metadata": {},
     "output_type": "execute_result"
    }
   ],
   "source": [
    "df"
   ]
  },
  {
   "cell_type": "code",
   "execution_count": 52,
   "metadata": {},
   "outputs": [
    {
     "name": "stdout",
     "output_type": "stream",
     "text": [
      "\\begin{tabular}{lrrrrrr}\n",
      "\\toprule\n",
      "{} &       nr &       lr &       gr &      lgr &      grd &     lgrd \\\\\n",
      "\\midrule\n",
      "Accuracy (\\%)         &    61.36 &    61.84 &    52.69 &    53.71 &    56.26 &    60.83 \\\\\n",
      "Training time (s)    & 5,068.93 & 4,884.23 & 5,272.73 & 4,995.77 & 5,271.57 & 4,955.30 \\\\\n",
      "RAM Usage (MB)       &   492.77 &    85.84 &    86.56 &    83.60 &    88.27 &    80.14 \\\\\n",
      "CPU Usage (s)        & 5,218.62 & 5,029.07 & 5,417.99 & 5,136.38 & 5,415.59 & 5,095.95 \\\\\n",
      "GPU Usage (\\%)        &     3.00 &     2.22 &     9.76 &     2.35 &    10.27 &     2.22 \\\\\n",
      "Peak GPU Memory (MB) & 4,990.67 & 1,578.67 & 5,248.00 & 1,554.00 & 5,248.00 & 1,554.00 \\\\\n",
      "\\bottomrule\n",
      "\\end{tabular}\n",
      "\n"
     ]
    }
   ],
   "source": [
    "print(df.to_latex())"
   ]
  },
  {
   "cell_type": "markdown",
   "metadata": {},
   "source": [
    "# 4. VGG-16 Task-IL Results "
   ]
  },
  {
   "cell_type": "code",
   "execution_count": 53,
   "metadata": {},
   "outputs": [
    {
     "name": "stdout",
     "output_type": "stream",
     "text": [
      "/Users/nikhilchuramani/Desktop/Cambridge/PhDWork/Projects/LatentGenerativeReplay/experiments/affectnet/2022-06-27-10-57\n"
     ]
    }
   ],
   "source": [
    "%cd /Users/nikhilchuramani/Desktop/Cambridge/PhDWork/Projects/LatentGenerativeReplay/experiments/affectnet/2022-06-27-10-57"
   ]
  },
  {
   "cell_type": "code",
   "execution_count": 54,
   "metadata": {},
   "outputs": [],
   "source": [
    "logs = !ls\n",
    "logs = [x for x in logs if \"VGG-16\" in x]"
   ]
  },
  {
   "cell_type": "code",
   "execution_count": 55,
   "metadata": {},
   "outputs": [],
   "source": [
    "ckp_metrics = calculate_metrics_gpu(logs)\n",
    "ckp_means = get_means(ckp_metrics)\n",
    "ckp_sds = get_sds(ckp_metrics)"
   ]
  },
  {
   "cell_type": "code",
   "execution_count": 56,
   "metadata": {},
   "outputs": [],
   "source": [
    "df = pd.DataFrame(ckp_means, index=['Accuracy (%)',\n",
    "                                 'Training time (s)', \n",
    "                                 'RAM Usage (MB)', \n",
    "                                 'CPU Usage (s)', \n",
    "                                 'GPU Usage (%)', \n",
    "                                 'Peak GPU Memory (MB)'])\n",
    "\n",
    "df = df.filter([\"nr\", \"lr\", \"gr\", \"lgr\", \"grd\", \"lgrd\"])"
   ]
  },
  {
   "cell_type": "code",
   "execution_count": 57,
   "metadata": {},
   "outputs": [
    {
     "data": {
      "text/plain": "                           nr       lr       gr      lgr      grd     lgrd\nAccuracy (%)            67.46    67.50    67.46    66.63    69.41    69.34\nTraining time (s)    5,507.53 5,108.70 6,154.00 5,435.43 6,124.80 5,410.70\nRAM Usage (MB)         157.64    72.43    97.69    69.23   116.86    60.47\nCPU Usage (s)        5,651.47 5,251.80 6,272.37 5,583.11 6,274.24 5,557.61\nGPU Usage (%)           12.43     8.87    21.18     8.38    20.37     8.59\nPeak GPU Memory (MB) 7,581.33 4,310.00 8,204.00 4,154.00 8,204.00 4,154.00",
      "text/html": "<div>\n<style scoped>\n    .dataframe tbody tr th:only-of-type {\n        vertical-align: middle;\n    }\n\n    .dataframe tbody tr th {\n        vertical-align: top;\n    }\n\n    .dataframe thead th {\n        text-align: right;\n    }\n</style>\n<table border=\"1\" class=\"dataframe\">\n  <thead>\n    <tr style=\"text-align: right;\">\n      <th></th>\n      <th>nr</th>\n      <th>lr</th>\n      <th>gr</th>\n      <th>lgr</th>\n      <th>grd</th>\n      <th>lgrd</th>\n    </tr>\n  </thead>\n  <tbody>\n    <tr>\n      <th>Accuracy (%)</th>\n      <td>67.46</td>\n      <td>67.50</td>\n      <td>67.46</td>\n      <td>66.63</td>\n      <td>69.41</td>\n      <td>69.34</td>\n    </tr>\n    <tr>\n      <th>Training time (s)</th>\n      <td>5,507.53</td>\n      <td>5,108.70</td>\n      <td>6,154.00</td>\n      <td>5,435.43</td>\n      <td>6,124.80</td>\n      <td>5,410.70</td>\n    </tr>\n    <tr>\n      <th>RAM Usage (MB)</th>\n      <td>157.64</td>\n      <td>72.43</td>\n      <td>97.69</td>\n      <td>69.23</td>\n      <td>116.86</td>\n      <td>60.47</td>\n    </tr>\n    <tr>\n      <th>CPU Usage (s)</th>\n      <td>5,651.47</td>\n      <td>5,251.80</td>\n      <td>6,272.37</td>\n      <td>5,583.11</td>\n      <td>6,274.24</td>\n      <td>5,557.61</td>\n    </tr>\n    <tr>\n      <th>GPU Usage (%)</th>\n      <td>12.43</td>\n      <td>8.87</td>\n      <td>21.18</td>\n      <td>8.38</td>\n      <td>20.37</td>\n      <td>8.59</td>\n    </tr>\n    <tr>\n      <th>Peak GPU Memory (MB)</th>\n      <td>7,581.33</td>\n      <td>4,310.00</td>\n      <td>8,204.00</td>\n      <td>4,154.00</td>\n      <td>8,204.00</td>\n      <td>4,154.00</td>\n    </tr>\n  </tbody>\n</table>\n</div>"
     },
     "execution_count": 57,
     "metadata": {},
     "output_type": "execute_result"
    }
   ],
   "source": [
    "df"
   ]
  },
  {
   "cell_type": "code",
   "execution_count": 58,
   "metadata": {},
   "outputs": [
    {
     "name": "stdout",
     "output_type": "stream",
     "text": [
      "\\begin{tabular}{lrrrrrr}\n",
      "\\toprule\n",
      "{} &       nr &       lr &       gr &      lgr &      grd &     lgrd \\\\\n",
      "\\midrule\n",
      "Accuracy (\\%)         &    67.46 &    67.50 &    67.46 &    66.63 &    69.41 &    69.34 \\\\\n",
      "Training time (s)    & 5,507.53 & 5,108.70 & 6,154.00 & 5,435.43 & 6,124.80 & 5,410.70 \\\\\n",
      "RAM Usage (MB)       &   157.64 &    72.43 &    97.69 &    69.23 &   116.86 &    60.47 \\\\\n",
      "CPU Usage (s)        & 5,651.47 & 5,251.80 & 6,272.37 & 5,583.11 & 6,274.24 & 5,557.61 \\\\\n",
      "GPU Usage (\\%)        &    12.43 &     8.87 &    21.18 &     8.38 &    20.37 &     8.59 \\\\\n",
      "Peak GPU Memory (MB) & 7,581.33 & 4,310.00 & 8,204.00 & 4,154.00 & 8,204.00 & 4,154.00 \\\\\n",
      "\\bottomrule\n",
      "\\end{tabular}\n",
      "\n"
     ]
    }
   ],
   "source": [
    "print(df.to_latex())"
   ]
  }
 ],
 "metadata": {
  "kernelspec": {
   "display_name": "Python 3 (ipykernel)",
   "language": "python",
   "name": "python3"
  },
  "language_info": {
   "codemirror_mode": {
    "name": "ipython",
    "version": 3
   },
   "file_extension": ".py",
   "mimetype": "text/x-python",
   "name": "python",
   "nbconvert_exporter": "python",
   "pygments_lexer": "ipython3",
   "version": "3.9.2"
  }
 },
 "nbformat": 4,
 "nbformat_minor": 4
}