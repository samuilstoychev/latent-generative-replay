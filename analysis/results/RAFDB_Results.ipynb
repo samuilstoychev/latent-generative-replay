{
 "cells": [
  {
   "cell_type": "markdown",
   "metadata": {},
   "source": [
    "# RAF-DB Results "
   ]
  },
  {
   "cell_type": "code",
   "execution_count": 1,
   "metadata": {},
   "outputs": [],
   "source": [
    "import matplotlib.pyplot as plt\n",
    "import numpy as np\n",
    "import pandas as pd\n",
    "\n",
    "pd.options.display.float_format = \"{:,.2f}\".format"
   ]
  },
  {
   "cell_type": "code",
   "execution_count": 2,
   "metadata": {},
   "outputs": [],
   "source": [
    "def extract_metrics_gpu(filename): \n",
    "    f = open(filename, 'r')\n",
    "    lines = f.readlines() \n",
    "    ram_init = None\n",
    "    ram_peak = None\n",
    "    cpu_init = None \n",
    "    cpu_end = None \n",
    "    for line in lines: \n",
    "        if \"=> Average precision\" in line: \n",
    "            accuracy = float(line.split(\" \")[-1])\n",
    "        if \"=> Total training time\" in line: \n",
    "            training_time = float(line.split(\" \")[-2])\n",
    "        if \"RAM BEFORE TRAINING:\" in line: \n",
    "            ram_init = float(line.split(\" \")[-1])\n",
    "        if \"PEAK TRAINING RAM:\" in line: \n",
    "            ram_peak = float(line.split(\" \")[-1])\n",
    "        if \"CPU BEFORE TRAINING:\" in line: \n",
    "            cpu_init = eval(line.split(\":\")[-1])\n",
    "        if \"CPU BEFORE EVALUATION:\" in line: \n",
    "            cpu_end = eval(line.split(\":\")[-1])\n",
    "        if \"GPU BEFORE EVALUATION:\" in line:\n",
    "            gpu_u, _ = eval(line.split(\":\")[-1])\n",
    "        if \"Peak mem and init mem:\" in line:\n",
    "            gpu_mem = float(line.split(\" \")[-2])\n",
    "        \n",
    "    cpu_u, cpu_k = (cpu_end[0] - cpu_init[0], cpu_end[1] - cpu_init[1])\n",
    "    return (accuracy * 100, training_time, (ram_peak-ram_init) * 1024, cpu_u + cpu_k, gpu_u, gpu_mem)"
   ]
  },
  {
   "cell_type": "code",
   "execution_count": 3,
   "metadata": {},
   "outputs": [],
   "source": [
    "def calculate_metrics_gpu(files): \n",
    "    metrics = dict()\n",
    "    \n",
    "    for file in files: \n",
    "        method, seed, _ = file.split(\"_\") \n",
    "        \n",
    "        if method in metrics: \n",
    "            metrics[method].append(extract_metrics_gpu(file))\n",
    "        else: \n",
    "            metrics[method] = [extract_metrics_gpu(file)] \n",
    "    \n",
    "    return metrics"
   ]
  },
  {
   "cell_type": "code",
   "execution_count": 4,
   "metadata": {},
   "outputs": [],
   "source": [
    "def get_means(metrics): \n",
    "    return {method: [sum(x)/len(x) for x in list(zip(*metrics[method]))] for method in metrics}"
   ]
  },
  {
   "cell_type": "code",
   "execution_count": 5,
   "metadata": {},
   "outputs": [],
   "source": [
    "def get_sds(metrics): \n",
    "    return {method: [np.std(x) for x in list(zip(*metrics[method]))] for method in metrics}"
   ]
  },
  {
   "cell_type": "markdown",
   "metadata": {},
   "source": [
    "# 1. AlexNet Task-IL Results "
   ]
  },
  {
   "cell_type": "code",
   "execution_count": 6,
   "metadata": {},
   "outputs": [
    {
     "name": "stdout",
     "output_type": "stream",
     "text": [
      "/Users/nikhilchuramani/Desktop/Cambridge/PhDWork/Projects/LatentGenerativeReplay/experiments/rafdb/2022-06-25-08-40\n"
     ]
    }
   ],
   "source": [
    "%cd /Users/nikhilchuramani/Desktop/Cambridge/PhDWork/Projects/LatentGenerativeReplay/experiments/rafdb/2022-06-25-08-40"
   ]
  },
  {
   "cell_type": "code",
   "execution_count": 7,
   "metadata": {},
   "outputs": [],
   "source": [
    "logs = !ls\n",
    "logs = [x for x in logs if \"ALEXNET\" in x]"
   ]
  },
  {
   "cell_type": "code",
   "execution_count": 8,
   "metadata": {},
   "outputs": [],
   "source": [
    "rafdb_metrics = calculate_metrics_gpu(logs)\n",
    "rafdb_means = get_means(rafdb_metrics)\n",
    "rafdb_sds = get_sds(rafdb_metrics)"
   ]
  },
  {
   "cell_type": "code",
   "execution_count": 9,
   "metadata": {},
   "outputs": [],
   "source": [
    "df = pd.DataFrame(rafdb_means, index=['Accuracy (%)',\n",
    "                                 'Training time (s)', \n",
    "                                 'RAM Usage (MB)', \n",
    "                                 'CPU Usage (s)', \n",
    "                                 'GPU Usage (%)', \n",
    "                                 'Peak GPU Memory (MB)'])\n",
    "\n",
    "df = df.filter([\"nr\", \"lr\", \"gr\", \"lgr\", \"grd\", \"lgrd\"])"
   ]
  },
  {
   "cell_type": "code",
   "execution_count": 10,
   "metadata": {},
   "outputs": [
    {
     "data": {
      "text/html": [
       "<div>\n",
       "<style scoped>\n",
       "    .dataframe tbody tr th:only-of-type {\n",
       "        vertical-align: middle;\n",
       "    }\n",
       "\n",
       "    .dataframe tbody tr th {\n",
       "        vertical-align: top;\n",
       "    }\n",
       "\n",
       "    .dataframe thead th {\n",
       "        text-align: right;\n",
       "    }\n",
       "</style>\n",
       "<table border=\"1\" class=\"dataframe\">\n",
       "  <thead>\n",
       "    <tr style=\"text-align: right;\">\n",
       "      <th></th>\n",
       "      <th>nr</th>\n",
       "      <th>lr</th>\n",
       "      <th>gr</th>\n",
       "      <th>lgr</th>\n",
       "      <th>grd</th>\n",
       "      <th>lgrd</th>\n",
       "    </tr>\n",
       "  </thead>\n",
       "  <tbody>\n",
       "    <tr>\n",
       "      <th>Accuracy (%)</th>\n",
       "      <td>75.72</td>\n",
       "      <td>78.62</td>\n",
       "      <td>81.58</td>\n",
       "      <td>84.28</td>\n",
       "      <td>83.91</td>\n",
       "      <td>86.85</td>\n",
       "    </tr>\n",
       "    <tr>\n",
       "      <th>Training time (s)</th>\n",
       "      <td>797.83</td>\n",
       "      <td>740.27</td>\n",
       "      <td>1,063.10</td>\n",
       "      <td>809.23</td>\n",
       "      <td>1,129.30</td>\n",
       "      <td>803.93</td>\n",
       "    </tr>\n",
       "    <tr>\n",
       "      <th>RAM Usage (MB)</th>\n",
       "      <td>329.12</td>\n",
       "      <td>25.09</td>\n",
       "      <td>48.49</td>\n",
       "      <td>32.05</td>\n",
       "      <td>43.16</td>\n",
       "      <td>32.05</td>\n",
       "    </tr>\n",
       "    <tr>\n",
       "      <th>CPU Usage (s)</th>\n",
       "      <td>805.54</td>\n",
       "      <td>740.60</td>\n",
       "      <td>1,064.31</td>\n",
       "      <td>798.84</td>\n",
       "      <td>1,146.20</td>\n",
       "      <td>805.16</td>\n",
       "    </tr>\n",
       "    <tr>\n",
       "      <th>GPU Usage (%)</th>\n",
       "      <td>9.08</td>\n",
       "      <td>6.48</td>\n",
       "      <td>34.42</td>\n",
       "      <td>7.73</td>\n",
       "      <td>33.34</td>\n",
       "      <td>7.89</td>\n",
       "    </tr>\n",
       "    <tr>\n",
       "      <th>Peak GPU Memory (MB)</th>\n",
       "      <td>5,232.00</td>\n",
       "      <td>1,818.00</td>\n",
       "      <td>5,836.00</td>\n",
       "      <td>1,542.00</td>\n",
       "      <td>5,836.00</td>\n",
       "      <td>1,542.00</td>\n",
       "    </tr>\n",
       "  </tbody>\n",
       "</table>\n",
       "</div>"
      ],
      "text/plain": [
       "                           nr       lr       gr      lgr      grd     lgrd\n",
       "Accuracy (%)            75.72    78.62    81.58    84.28    83.91    86.85\n",
       "Training time (s)      797.83   740.27 1,063.10   809.23 1,129.30   803.93\n",
       "RAM Usage (MB)         329.12    25.09    48.49    32.05    43.16    32.05\n",
       "CPU Usage (s)          805.54   740.60 1,064.31   798.84 1,146.20   805.16\n",
       "GPU Usage (%)            9.08     6.48    34.42     7.73    33.34     7.89\n",
       "Peak GPU Memory (MB) 5,232.00 1,818.00 5,836.00 1,542.00 5,836.00 1,542.00"
      ]
     },
     "execution_count": 10,
     "metadata": {},
     "output_type": "execute_result"
    }
   ],
   "source": [
    "df"
   ]
  },
  {
   "cell_type": "code",
   "execution_count": 11,
   "metadata": {},
   "outputs": [
    {
     "name": "stdout",
     "output_type": "stream",
     "text": [
      "\\begin{tabular}{lrrrrrr}\n",
      "\\toprule\n",
      "{} &       nr &       lr &       gr &      lgr &      grd &     lgrd \\\\\n",
      "\\midrule\n",
      "Accuracy (\\%)         &    75.72 &    78.62 &    81.58 &    84.28 &    83.91 &    86.85 \\\\\n",
      "Training time (s)    &   797.83 &   740.27 & 1,063.10 &   809.23 & 1,129.30 &   803.93 \\\\\n",
      "RAM Usage (MB)       &   329.12 &    25.09 &    48.49 &    32.05 &    43.16 &    32.05 \\\\\n",
      "CPU Usage (s)        &   805.54 &   740.60 & 1,064.31 &   798.84 & 1,146.20 &   805.16 \\\\\n",
      "GPU Usage (\\%)        &     9.08 &     6.48 &    34.42 &     7.73 &    33.34 &     7.89 \\\\\n",
      "Peak GPU Memory (MB) & 5,232.00 & 1,818.00 & 5,836.00 & 1,542.00 & 5,836.00 & 1,542.00 \\\\\n",
      "\\bottomrule\n",
      "\\end{tabular}\n",
      "\n"
     ]
    }
   ],
   "source": [
    "print(df.to_latex())"
   ]
  },
  {
   "cell_type": "markdown",
   "metadata": {},
   "source": [
    "# 2. MobileNet Task-IL Results "
   ]
  },
  {
   "cell_type": "code",
   "execution_count": 12,
   "metadata": {},
   "outputs": [
    {
     "name": "stdout",
     "output_type": "stream",
     "text": [
      "[Errno 2] No such file or directory: '/Users/samuilstoychev/Desktop/LatentGenerativeReplay/experiments/rafdb/2022-06-25-08-40'\n",
      "/Users/nikhilchuramani/Desktop/Cambridge/PhDWork/Projects/LatentGenerativeReplay/experiments/rafdb/2022-06-25-08-40\n"
     ]
    }
   ],
   "source": [
    "%cd /Users/samuilstoychev/Desktop/LatentGenerativeReplay/experiments/rafdb/2022-06-25-08-40"
   ]
  },
  {
   "cell_type": "code",
   "execution_count": 13,
   "metadata": {},
   "outputs": [],
   "source": [
    "logs = !ls\n",
    "logs = [x for x in logs if \"MOBILENET-V2\" in x]"
   ]
  },
  {
   "cell_type": "code",
   "execution_count": 14,
   "metadata": {},
   "outputs": [],
   "source": [
    "rafdb_metrics = calculate_metrics_gpu(logs)\n",
    "rafdb_means = get_means(rafdb_metrics)\n",
    "rafdb_sds = get_sds(rafdb_metrics)"
   ]
  },
  {
   "cell_type": "code",
   "execution_count": 15,
   "metadata": {},
   "outputs": [],
   "source": [
    "df = pd.DataFrame(rafdb_means, index=['Accuracy (%)',\n",
    "                                 'Training time (s)', \n",
    "                                 'RAM Usage (MB)', \n",
    "                                 'CPU Usage (s)', \n",
    "                                 'GPU Usage (%)', \n",
    "                                 'Peak GPU Memory (MB)'])\n",
    "\n",
    "df = df.filter([\"nr\", \"lr\", \"gr\", \"lgr\", \"grd\", \"lgrd\"])"
   ]
  },
  {
   "cell_type": "code",
   "execution_count": 16,
   "metadata": {},
   "outputs": [
    {
     "data": {
      "text/html": [
       "<div>\n",
       "<style scoped>\n",
       "    .dataframe tbody tr th:only-of-type {\n",
       "        vertical-align: middle;\n",
       "    }\n",
       "\n",
       "    .dataframe tbody tr th {\n",
       "        vertical-align: top;\n",
       "    }\n",
       "\n",
       "    .dataframe thead th {\n",
       "        text-align: right;\n",
       "    }\n",
       "</style>\n",
       "<table border=\"1\" class=\"dataframe\">\n",
       "  <thead>\n",
       "    <tr style=\"text-align: right;\">\n",
       "      <th></th>\n",
       "      <th>nr</th>\n",
       "      <th>lr</th>\n",
       "      <th>gr</th>\n",
       "      <th>lgr</th>\n",
       "      <th>grd</th>\n",
       "      <th>lgrd</th>\n",
       "    </tr>\n",
       "  </thead>\n",
       "  <tbody>\n",
       "    <tr>\n",
       "      <th>Accuracy (%)</th>\n",
       "      <td>81.06</td>\n",
       "      <td>80.94</td>\n",
       "      <td>80.10</td>\n",
       "      <td>80.10</td>\n",
       "      <td>80.10</td>\n",
       "      <td>81.02</td>\n",
       "    </tr>\n",
       "    <tr>\n",
       "      <th>Training time (s)</th>\n",
       "      <td>979.93</td>\n",
       "      <td>834.13</td>\n",
       "      <td>1,250.57</td>\n",
       "      <td>902.70</td>\n",
       "      <td>1,241.73</td>\n",
       "      <td>875.70</td>\n",
       "    </tr>\n",
       "    <tr>\n",
       "      <th>RAM Usage (MB)</th>\n",
       "      <td>202.90</td>\n",
       "      <td>41.32</td>\n",
       "      <td>40.23</td>\n",
       "      <td>52.03</td>\n",
       "      <td>45.38</td>\n",
       "      <td>41.88</td>\n",
       "    </tr>\n",
       "    <tr>\n",
       "      <th>CPU Usage (s)</th>\n",
       "      <td>966.44</td>\n",
       "      <td>837.57</td>\n",
       "      <td>1,257.85</td>\n",
       "      <td>908.76</td>\n",
       "      <td>1,246.60</td>\n",
       "      <td>877.00</td>\n",
       "    </tr>\n",
       "    <tr>\n",
       "      <th>GPU Usage (%)</th>\n",
       "      <td>20.69</td>\n",
       "      <td>14.45</td>\n",
       "      <td>42.70</td>\n",
       "      <td>14.57</td>\n",
       "      <td>43.26</td>\n",
       "      <td>15.00</td>\n",
       "    </tr>\n",
       "    <tr>\n",
       "      <th>Peak GPU Memory (MB)</th>\n",
       "      <td>4,880.00</td>\n",
       "      <td>1,679.33</td>\n",
       "      <td>5,414.00</td>\n",
       "      <td>1,604.00</td>\n",
       "      <td>5,414.00</td>\n",
       "      <td>1,604.00</td>\n",
       "    </tr>\n",
       "  </tbody>\n",
       "</table>\n",
       "</div>"
      ],
      "text/plain": [
       "                           nr       lr       gr      lgr      grd     lgrd\n",
       "Accuracy (%)            81.06    80.94    80.10    80.10    80.10    81.02\n",
       "Training time (s)      979.93   834.13 1,250.57   902.70 1,241.73   875.70\n",
       "RAM Usage (MB)         202.90    41.32    40.23    52.03    45.38    41.88\n",
       "CPU Usage (s)          966.44   837.57 1,257.85   908.76 1,246.60   877.00\n",
       "GPU Usage (%)           20.69    14.45    42.70    14.57    43.26    15.00\n",
       "Peak GPU Memory (MB) 4,880.00 1,679.33 5,414.00 1,604.00 5,414.00 1,604.00"
      ]
     },
     "execution_count": 16,
     "metadata": {},
     "output_type": "execute_result"
    }
   ],
   "source": [
    "df"
   ]
  },
  {
   "cell_type": "code",
   "execution_count": 17,
   "metadata": {},
   "outputs": [
    {
     "name": "stdout",
     "output_type": "stream",
     "text": [
      "\\begin{tabular}{lrrrrrr}\n",
      "\\toprule\n",
      "{} &       nr &       lr &       gr &      lgr &      grd &     lgrd \\\\\n",
      "\\midrule\n",
      "Accuracy (\\%)         &    81.06 &    80.94 &    80.10 &    80.10 &    80.10 &    81.02 \\\\\n",
      "Training time (s)    &   979.93 &   834.13 & 1,250.57 &   902.70 & 1,241.73 &   875.70 \\\\\n",
      "RAM Usage (MB)       &   202.90 &    41.32 &    40.23 &    52.03 &    45.38 &    41.88 \\\\\n",
      "CPU Usage (s)        &   966.44 &   837.57 & 1,257.85 &   908.76 & 1,246.60 &   877.00 \\\\\n",
      "GPU Usage (\\%)        &    20.69 &    14.45 &    42.70 &    14.57 &    43.26 &    15.00 \\\\\n",
      "Peak GPU Memory (MB) & 4,880.00 & 1,679.33 & 5,414.00 & 1,604.00 & 5,414.00 & 1,604.00 \\\\\n",
      "\\bottomrule\n",
      "\\end{tabular}\n",
      "\n"
     ]
    }
   ],
   "source": [
    "print(df.to_latex())"
   ]
  },
  {
   "cell_type": "markdown",
   "metadata": {},
   "source": [
    "# 3. ResNet Task-IL Results "
   ]
  },
  {
   "cell_type": "code",
   "execution_count": 18,
   "metadata": {},
   "outputs": [
    {
     "name": "stdout",
     "output_type": "stream",
     "text": [
      "[Errno 2] No such file or directory: '/Users/samuilstoychev/Desktop/LatentGenerativeReplay/experiments/rafdb/2022-06-25-08-40'\n",
      "/Users/nikhilchuramani/Desktop/Cambridge/PhDWork/Projects/LatentGenerativeReplay/experiments/rafdb/2022-06-25-08-40\n"
     ]
    }
   ],
   "source": [
    "%cd /Users/samuilstoychev/Desktop/LatentGenerativeReplay/experiments/rafdb/2022-06-25-08-40"
   ]
  },
  {
   "cell_type": "code",
   "execution_count": 19,
   "metadata": {},
   "outputs": [],
   "source": [
    "logs = !ls\n",
    "logs = [x for x in logs if \"RESNET-18\" in x]"
   ]
  },
  {
   "cell_type": "code",
   "execution_count": 20,
   "metadata": {},
   "outputs": [],
   "source": [
    "rafdb_metrics = calculate_metrics_gpu(logs)\n",
    "rafdb_means = get_means(rafdb_metrics)\n",
    "rafdb_sds = get_sds(rafdb_metrics)"
   ]
  },
  {
   "cell_type": "code",
   "execution_count": 21,
   "metadata": {},
   "outputs": [],
   "source": [
    "df = pd.DataFrame(rafdb_means, index=['Accuracy (%)',\n",
    "                                 'Training time (s)', \n",
    "                                 'RAM Usage (MB)', \n",
    "                                 'CPU Usage (s)', \n",
    "                                 'GPU Usage (%)', \n",
    "                                 'Peak GPU Memory (MB)'])\n",
    "\n",
    "df = df.filter([\"nr\", \"lr\", \"gr\", \"lgr\", \"grd\", \"lgrd\"])"
   ]
  },
  {
   "cell_type": "code",
   "execution_count": 22,
   "metadata": {},
   "outputs": [
    {
     "data": {
      "text/html": [
       "<div>\n",
       "<style scoped>\n",
       "    .dataframe tbody tr th:only-of-type {\n",
       "        vertical-align: middle;\n",
       "    }\n",
       "\n",
       "    .dataframe tbody tr th {\n",
       "        vertical-align: top;\n",
       "    }\n",
       "\n",
       "    .dataframe thead th {\n",
       "        text-align: right;\n",
       "    }\n",
       "</style>\n",
       "<table border=\"1\" class=\"dataframe\">\n",
       "  <thead>\n",
       "    <tr style=\"text-align: right;\">\n",
       "      <th></th>\n",
       "      <th>nr</th>\n",
       "      <th>lr</th>\n",
       "      <th>gr</th>\n",
       "      <th>lgr</th>\n",
       "      <th>grd</th>\n",
       "      <th>lgrd</th>\n",
       "    </tr>\n",
       "  </thead>\n",
       "  <tbody>\n",
       "    <tr>\n",
       "      <th>Accuracy (%)</th>\n",
       "      <td>82.17</td>\n",
       "      <td>82.64</td>\n",
       "      <td>80.10</td>\n",
       "      <td>80.10</td>\n",
       "      <td>80.10</td>\n",
       "      <td>82.84</td>\n",
       "    </tr>\n",
       "    <tr>\n",
       "      <th>Training time (s)</th>\n",
       "      <td>882.30</td>\n",
       "      <td>792.53</td>\n",
       "      <td>1,225.70</td>\n",
       "      <td>884.13</td>\n",
       "      <td>1,220.10</td>\n",
       "      <td>868.23</td>\n",
       "    </tr>\n",
       "    <tr>\n",
       "      <th>RAM Usage (MB)</th>\n",
       "      <td>501.05</td>\n",
       "      <td>35.27</td>\n",
       "      <td>48.98</td>\n",
       "      <td>40.14</td>\n",
       "      <td>42.39</td>\n",
       "      <td>40.00</td>\n",
       "    </tr>\n",
       "    <tr>\n",
       "      <th>CPU Usage (s)</th>\n",
       "      <td>883.95</td>\n",
       "      <td>785.29</td>\n",
       "      <td>1,228.59</td>\n",
       "      <td>891.16</td>\n",
       "      <td>1,223.57</td>\n",
       "      <td>875.40</td>\n",
       "    </tr>\n",
       "    <tr>\n",
       "      <th>GPU Usage (%)</th>\n",
       "      <td>19.33</td>\n",
       "      <td>13.08</td>\n",
       "      <td>41.95</td>\n",
       "      <td>12.94</td>\n",
       "      <td>41.63</td>\n",
       "      <td>13.24</td>\n",
       "    </tr>\n",
       "    <tr>\n",
       "      <th>Peak GPU Memory (MB)</th>\n",
       "      <td>5,017.33</td>\n",
       "      <td>1,577.33</td>\n",
       "      <td>5,248.00</td>\n",
       "      <td>1,554.00</td>\n",
       "      <td>5,248.00</td>\n",
       "      <td>1,554.00</td>\n",
       "    </tr>\n",
       "  </tbody>\n",
       "</table>\n",
       "</div>"
      ],
      "text/plain": [
       "                           nr       lr       gr      lgr      grd     lgrd\n",
       "Accuracy (%)            82.17    82.64    80.10    80.10    80.10    82.84\n",
       "Training time (s)      882.30   792.53 1,225.70   884.13 1,220.10   868.23\n",
       "RAM Usage (MB)         501.05    35.27    48.98    40.14    42.39    40.00\n",
       "CPU Usage (s)          883.95   785.29 1,228.59   891.16 1,223.57   875.40\n",
       "GPU Usage (%)           19.33    13.08    41.95    12.94    41.63    13.24\n",
       "Peak GPU Memory (MB) 5,017.33 1,577.33 5,248.00 1,554.00 5,248.00 1,554.00"
      ]
     },
     "execution_count": 22,
     "metadata": {},
     "output_type": "execute_result"
    }
   ],
   "source": [
    "df"
   ]
  },
  {
   "cell_type": "code",
   "execution_count": 23,
   "metadata": {},
   "outputs": [
    {
     "name": "stdout",
     "output_type": "stream",
     "text": [
      "\\begin{tabular}{lrrrrrr}\n",
      "\\toprule\n",
      "{} &       nr &       lr &       gr &      lgr &      grd &     lgrd \\\\\n",
      "\\midrule\n",
      "Accuracy (\\%)         &    82.17 &    82.64 &    80.10 &    80.10 &    80.10 &    82.84 \\\\\n",
      "Training time (s)    &   882.30 &   792.53 & 1,225.70 &   884.13 & 1,220.10 &   868.23 \\\\\n",
      "RAM Usage (MB)       &   501.05 &    35.27 &    48.98 &    40.14 &    42.39 &    40.00 \\\\\n",
      "CPU Usage (s)        &   883.95 &   785.29 & 1,228.59 &   891.16 & 1,223.57 &   875.40 \\\\\n",
      "GPU Usage (\\%)        &    19.33 &    13.08 &    41.95 &    12.94 &    41.63 &    13.24 \\\\\n",
      "Peak GPU Memory (MB) & 5,017.33 & 1,577.33 & 5,248.00 & 1,554.00 & 5,248.00 & 1,554.00 \\\\\n",
      "\\bottomrule\n",
      "\\end{tabular}\n",
      "\n"
     ]
    }
   ],
   "source": [
    "print(df.to_latex())"
   ]
  },
  {
   "cell_type": "markdown",
   "metadata": {},
   "source": [
    "# 4. VGG-16 Task-IL Results "
   ]
  },
  {
   "cell_type": "code",
   "execution_count": 24,
   "metadata": {},
   "outputs": [
    {
     "name": "stdout",
     "output_type": "stream",
     "text": [
      "[Errno 2] No such file or directory: '/Users/samuilstoychev/Desktop/LatentGenerativeReplay/experiments/rafdb/2022-06-25-08-40'\n",
      "/Users/nikhilchuramani/Desktop/Cambridge/PhDWork/Projects/LatentGenerativeReplay/experiments/rafdb/2022-06-25-08-40\n"
     ]
    }
   ],
   "source": [
    "%cd /Users/samuilstoychev/Desktop/LatentGenerativeReplay/experiments/rafdb/2022-06-25-08-40"
   ]
  },
  {
   "cell_type": "code",
   "execution_count": 25,
   "metadata": {},
   "outputs": [],
   "source": [
    "logs = !ls\n",
    "logs = [x for x in logs if \"VGG-16\" in x]"
   ]
  },
  {
   "cell_type": "code",
   "execution_count": 26,
   "metadata": {},
   "outputs": [],
   "source": [
    "rafdb_metrics = calculate_metrics_gpu(logs)\n",
    "rafdb_means = get_means(rafdb_metrics)\n",
    "rafdb_sds = get_sds(rafdb_metrics)"
   ]
  },
  {
   "cell_type": "code",
   "execution_count": 27,
   "metadata": {},
   "outputs": [],
   "source": [
    "df = pd.DataFrame(rafdb_means, index=['Accuracy (%)',\n",
    "                                 'Training time (s)', \n",
    "                                 'RAM Usage (MB)', \n",
    "                                 'CPU Usage (s)', \n",
    "                                 'GPU Usage (%)', \n",
    "                                 'Peak GPU Memory (MB)'])\n",
    "\n",
    "df = df.filter([\"nr\", \"lr\", \"gr\", \"lgr\", \"grd\", \"lgrd\"])"
   ]
  },
  {
   "cell_type": "code",
   "execution_count": 28,
   "metadata": {},
   "outputs": [
    {
     "data": {
      "text/html": [
       "<div>\n",
       "<style scoped>\n",
       "    .dataframe tbody tr th:only-of-type {\n",
       "        vertical-align: middle;\n",
       "    }\n",
       "\n",
       "    .dataframe tbody tr th {\n",
       "        vertical-align: top;\n",
       "    }\n",
       "\n",
       "    .dataframe thead th {\n",
       "        text-align: right;\n",
       "    }\n",
       "</style>\n",
       "<table border=\"1\" class=\"dataframe\">\n",
       "  <thead>\n",
       "    <tr style=\"text-align: right;\">\n",
       "      <th></th>\n",
       "      <th>nr</th>\n",
       "      <th>lr</th>\n",
       "      <th>gr</th>\n",
       "      <th>lgr</th>\n",
       "      <th>grd</th>\n",
       "      <th>lgrd</th>\n",
       "    </tr>\n",
       "  </thead>\n",
       "  <tbody>\n",
       "    <tr>\n",
       "      <th>Accuracy (%)</th>\n",
       "      <td>79.52</td>\n",
       "      <td>79.69</td>\n",
       "      <td>81.79</td>\n",
       "      <td>83.33</td>\n",
       "      <td>82.53</td>\n",
       "      <td>86.91</td>\n",
       "    </tr>\n",
       "    <tr>\n",
       "      <th>Training time (s)</th>\n",
       "      <td>1,444.60</td>\n",
       "      <td>1,102.67</td>\n",
       "      <td>2,010.47</td>\n",
       "      <td>1,159.43</td>\n",
       "      <td>2,020.03</td>\n",
       "      <td>1,182.37</td>\n",
       "    </tr>\n",
       "    <tr>\n",
       "      <th>RAM Usage (MB)</th>\n",
       "      <td>96.71</td>\n",
       "      <td>32.85</td>\n",
       "      <td>61.33</td>\n",
       "      <td>27.44</td>\n",
       "      <td>41.72</td>\n",
       "      <td>27.22</td>\n",
       "    </tr>\n",
       "    <tr>\n",
       "      <th>CPU Usage (s)</th>\n",
       "      <td>1,465.10</td>\n",
       "      <td>1,112.74</td>\n",
       "      <td>2,008.67</td>\n",
       "      <td>1,167.70</td>\n",
       "      <td>2,018.84</td>\n",
       "      <td>1,197.15</td>\n",
       "    </tr>\n",
       "    <tr>\n",
       "      <th>GPU Usage (%)</th>\n",
       "      <td>48.31</td>\n",
       "      <td>37.00</td>\n",
       "      <td>64.07</td>\n",
       "      <td>35.92</td>\n",
       "      <td>63.97</td>\n",
       "      <td>36.01</td>\n",
       "    </tr>\n",
       "    <tr>\n",
       "      <th>Peak GPU Memory (MB)</th>\n",
       "      <td>7,390.67</td>\n",
       "      <td>4,310.00</td>\n",
       "      <td>8,204.00</td>\n",
       "      <td>4,314.00</td>\n",
       "      <td>8,204.00</td>\n",
       "      <td>4,314.00</td>\n",
       "    </tr>\n",
       "  </tbody>\n",
       "</table>\n",
       "</div>"
      ],
      "text/plain": [
       "                           nr       lr       gr      lgr      grd     lgrd\n",
       "Accuracy (%)            79.52    79.69    81.79    83.33    82.53    86.91\n",
       "Training time (s)    1,444.60 1,102.67 2,010.47 1,159.43 2,020.03 1,182.37\n",
       "RAM Usage (MB)          96.71    32.85    61.33    27.44    41.72    27.22\n",
       "CPU Usage (s)        1,465.10 1,112.74 2,008.67 1,167.70 2,018.84 1,197.15\n",
       "GPU Usage (%)           48.31    37.00    64.07    35.92    63.97    36.01\n",
       "Peak GPU Memory (MB) 7,390.67 4,310.00 8,204.00 4,314.00 8,204.00 4,314.00"
      ]
     },
     "execution_count": 28,
     "metadata": {},
     "output_type": "execute_result"
    }
   ],
   "source": [
    "df"
   ]
  },
  {
   "cell_type": "code",
   "execution_count": 29,
   "metadata": {},
   "outputs": [
    {
     "name": "stdout",
     "output_type": "stream",
     "text": [
      "\\begin{tabular}{lrrrrrr}\n",
      "\\toprule\n",
      "{} &       nr &       lr &       gr &      lgr &      grd &     lgrd \\\\\n",
      "\\midrule\n",
      "Accuracy (\\%)         &    79.52 &    79.69 &    81.79 &    83.33 &    82.53 &    86.91 \\\\\n",
      "Training time (s)    & 1,444.60 & 1,102.67 & 2,010.47 & 1,159.43 & 2,020.03 & 1,182.37 \\\\\n",
      "RAM Usage (MB)       &    96.71 &    32.85 &    61.33 &    27.44 &    41.72 &    27.22 \\\\\n",
      "CPU Usage (s)        & 1,465.10 & 1,112.74 & 2,008.67 & 1,167.70 & 2,018.84 & 1,197.15 \\\\\n",
      "GPU Usage (\\%)        &    48.31 &    37.00 &    64.07 &    35.92 &    63.97 &    36.01 \\\\\n",
      "Peak GPU Memory (MB) & 7,390.67 & 4,310.00 & 8,204.00 & 4,314.00 & 8,204.00 & 4,314.00 \\\\\n",
      "\\bottomrule\n",
      "\\end{tabular}\n",
      "\n"
     ]
    }
   ],
   "source": [
    "print(df.to_latex())"
   ]
  }
 ],
 "metadata": {
  "kernelspec": {
   "display_name": "Python 3 (ipykernel)",
   "language": "python",
   "name": "python3"
  },
  "language_info": {
   "codemirror_mode": {
    "name": "ipython",
    "version": 3
   },
   "file_extension": ".py",
   "mimetype": "text/x-python",
   "name": "python",
   "nbconvert_exporter": "python",
   "pygments_lexer": "ipython3",
   "version": "3.9.2"
  }
 },
 "nbformat": 4,
 "nbformat_minor": 4
}