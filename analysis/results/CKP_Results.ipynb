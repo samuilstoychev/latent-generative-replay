{
 "cells": [
  {
   "cell_type": "markdown",
   "metadata": {},
   "source": [
    "# CK+ Results "
   ]
  },
  {
   "cell_type": "code",
   "execution_count": 1,
   "metadata": {},
   "outputs": [],
   "source": [
    "import matplotlib.pyplot as plt\n",
    "import numpy as np\n",
    "import pandas as pd\n",
    "\n",
    "pd.options.display.float_format = \"{:,.2f}\".format"
   ]
  },
  {
   "cell_type": "code",
   "execution_count": 2,
   "metadata": {},
   "outputs": [],
   "source": [
    "def extract_metrics_gpu(filename): \n",
    "    f = open(filename, 'r')\n",
    "    lines = f.readlines() \n",
    "    ram_init = None\n",
    "    ram_peak = None\n",
    "    cpu_init = None \n",
    "    cpu_end = None \n",
    "    for line in lines: \n",
    "        if \"=> Average precision\" in line: \n",
    "            accuracy = float(line.split(\" \")[-1])\n",
    "        if \"=> Total training time\" in line: \n",
    "            training_time = float(line.split(\" \")[-2])\n",
    "        if \"RAM BEFORE TRAINING:\" in line: \n",
    "            ram_init = float(line.split(\" \")[-1])\n",
    "        if \"PEAK TRAINING RAM:\" in line: \n",
    "            ram_peak = float(line.split(\" \")[-1])\n",
    "        if \"CPU BEFORE TRAINING:\" in line: \n",
    "            cpu_init = eval(line.split(\":\")[-1])\n",
    "        if \"CPU BEFORE EVALUATION:\" in line: \n",
    "            cpu_end = eval(line.split(\":\")[-1])\n",
    "        if \"GPU BEFORE EVALUATION:\" in line:\n",
    "            gpu_u, _= eval(line.split(\":\")[-1])\n",
    "        if \"Peak mem and init mem:\" in line:\n",
    "            gpu_mem = float(line.split(\" \")[-2])\n",
    "        \n",
    "    cpu_u, cpu_k = (cpu_end[0] - cpu_init[0], cpu_end[1] - cpu_init[1])\n",
    "    return (accuracy * 100, training_time, (ram_peak-ram_init) * 1024, cpu_u + cpu_k, gpu_u, gpu_mem)"
   ]
  },
  {
   "cell_type": "code",
   "execution_count": 3,
   "metadata": {},
   "outputs": [],
   "source": [
    "def calculate_metrics_gpu(files): \n",
    "    metrics = dict()\n",
    "    \n",
    "    for file in files: \n",
    "        method, seed, _ = file.split(\"_\") \n",
    "        \n",
    "        if method in metrics: \n",
    "            metrics[method].append(extract_metrics_gpu(file))\n",
    "        else: \n",
    "            metrics[method] = [extract_metrics_gpu(file)] \n",
    "    \n",
    "    return metrics"
   ]
  },
  {
   "cell_type": "code",
   "execution_count": 4,
   "metadata": {},
   "outputs": [],
   "source": [
    "def get_means(metrics): \n",
    "    return {method: [sum(x)/len(x) for x in list(zip(*metrics[method]))] for method in metrics}"
   ]
  },
  {
   "cell_type": "code",
   "execution_count": 5,
   "metadata": {},
   "outputs": [],
   "source": [
    "def get_sds(metrics): \n",
    "    return {method: [np.std(x) for x in list(zip(*metrics[method]))] for method in metrics}"
   ]
  },
  {
   "cell_type": "markdown",
   "metadata": {},
   "source": [
    "# 1. AlexNet Task-IL Results "
   ]
  },
  {
   "cell_type": "code",
   "execution_count": 6,
   "metadata": {},
   "outputs": [
    {
     "name": "stdout",
     "output_type": "stream",
     "text": [
      "/Users/nikhilchuramani/Desktop/Cambridge/PhDWork/Projects/LatentGenerativeReplay/experiments/ckplus/2022-06-26-17-23\n"
     ]
    }
   ],
   "source": [
    "%cd /Users/nikhilchuramani/Desktop/Cambridge/PhDWork/Projects/LatentGenerativeReplay/experiments/ckplus/2022-06-26-17-23"
   ]
  },
  {
   "cell_type": "code",
   "execution_count": 7,
   "metadata": {},
   "outputs": [],
   "source": [
    "logs = !ls\n",
    "logs = [x for x in logs if \"ALEXNET\" in x]"
   ]
  },
  {
   "cell_type": "code",
   "execution_count": 8,
   "metadata": {},
   "outputs": [],
   "source": [
    "ckp_metrics = calculate_metrics_gpu(logs)\n",
    "ckp_means = get_means(ckp_metrics)\n",
    "ckp_sds = get_sds(ckp_metrics)"
   ]
  },
  {
   "cell_type": "code",
   "execution_count": 9,
   "metadata": {},
   "outputs": [],
   "source": [
    "df = pd.DataFrame(ckp_means, index=['Accuracy (%)',\n",
    "                                 'Training time (s)', \n",
    "                                 'RAM Usage (MB)', \n",
    "                                 'CPU Usage (s)', \n",
    "                                 'GPU Usage (%)', \n",
    "                                 'Peak GPU Memory (MB)'])\n",
    "df = df.filter([\"nr\", \"lr\", \"gr\", \"lgr\", \"grd\", \"lgrd\"])"
   ]
  },
  {
   "cell_type": "code",
   "execution_count": 10,
   "metadata": {},
   "outputs": [
    {
     "data": {
      "text/html": [
       "<div>\n",
       "<style scoped>\n",
       "    .dataframe tbody tr th:only-of-type {\n",
       "        vertical-align: middle;\n",
       "    }\n",
       "\n",
       "    .dataframe tbody tr th {\n",
       "        vertical-align: top;\n",
       "    }\n",
       "\n",
       "    .dataframe thead th {\n",
       "        text-align: right;\n",
       "    }\n",
       "</style>\n",
       "<table border=\"1\" class=\"dataframe\">\n",
       "  <thead>\n",
       "    <tr style=\"text-align: right;\">\n",
       "      <th></th>\n",
       "      <th>nr</th>\n",
       "      <th>lr</th>\n",
       "      <th>gr</th>\n",
       "      <th>lgr</th>\n",
       "      <th>grd</th>\n",
       "      <th>lgrd</th>\n",
       "    </tr>\n",
       "  </thead>\n",
       "  <tbody>\n",
       "    <tr>\n",
       "      <th>Accuracy (%)</th>\n",
       "      <td>98.19</td>\n",
       "      <td>95.55</td>\n",
       "      <td>93.23</td>\n",
       "      <td>92.31</td>\n",
       "      <td>91.97</td>\n",
       "      <td>95.01</td>\n",
       "    </tr>\n",
       "    <tr>\n",
       "      <th>Training time (s)</th>\n",
       "      <td>661.17</td>\n",
       "      <td>632.20</td>\n",
       "      <td>871.13</td>\n",
       "      <td>681.60</td>\n",
       "      <td>879.27</td>\n",
       "      <td>670.67</td>\n",
       "    </tr>\n",
       "    <tr>\n",
       "      <th>RAM Usage (MB)</th>\n",
       "      <td>77.64</td>\n",
       "      <td>12.74</td>\n",
       "      <td>13.84</td>\n",
       "      <td>14.69</td>\n",
       "      <td>13.56</td>\n",
       "      <td>14.62</td>\n",
       "    </tr>\n",
       "    <tr>\n",
       "      <th>CPU Usage (s)</th>\n",
       "      <td>758.71</td>\n",
       "      <td>729.03</td>\n",
       "      <td>962.26</td>\n",
       "      <td>778.49</td>\n",
       "      <td>977.42</td>\n",
       "      <td>766.90</td>\n",
       "    </tr>\n",
       "    <tr>\n",
       "      <th>GPU Usage (%)</th>\n",
       "      <td>3.91</td>\n",
       "      <td>2.64</td>\n",
       "      <td>27.06</td>\n",
       "      <td>4.55</td>\n",
       "      <td>26.93</td>\n",
       "      <td>4.47</td>\n",
       "    </tr>\n",
       "    <tr>\n",
       "      <th>Peak GPU Memory (MB)</th>\n",
       "      <td>3,916.00</td>\n",
       "      <td>1,744.00</td>\n",
       "      <td>5,682.00</td>\n",
       "      <td>1,546.00</td>\n",
       "      <td>5,682.00</td>\n",
       "      <td>1,546.00</td>\n",
       "    </tr>\n",
       "  </tbody>\n",
       "</table>\n",
       "</div>"
      ],
      "text/plain": [
       "                           nr       lr       gr      lgr      grd     lgrd\n",
       "Accuracy (%)            98.19    95.55    93.23    92.31    91.97    95.01\n",
       "Training time (s)      661.17   632.20   871.13   681.60   879.27   670.67\n",
       "RAM Usage (MB)          77.64    12.74    13.84    14.69    13.56    14.62\n",
       "CPU Usage (s)          758.71   729.03   962.26   778.49   977.42   766.90\n",
       "GPU Usage (%)            3.91     2.64    27.06     4.55    26.93     4.47\n",
       "Peak GPU Memory (MB) 3,916.00 1,744.00 5,682.00 1,546.00 5,682.00 1,546.00"
      ]
     },
     "execution_count": 10,
     "metadata": {},
     "output_type": "execute_result"
    }
   ],
   "source": [
    "df"
   ]
  },
  {
   "cell_type": "markdown",
   "metadata": {},
   "source": [
    "# 2. MobileNet Task-IL Results "
   ]
  },
  {
   "cell_type": "code",
   "execution_count": 11,
   "metadata": {},
   "outputs": [
    {
     "name": "stdout",
     "output_type": "stream",
     "text": [
      "/Users/nikhilchuramani/Desktop/Cambridge/PhDWork/Projects/LatentGenerativeReplay/experiments/ckplus/2022-06-26-17-23\n"
     ]
    }
   ],
   "source": [
    "%cd /Users/nikhilchuramani/Desktop/Cambridge/PhDWork/Projects/LatentGenerativeReplay/experiments/ckplus/2022-06-26-17-23"
   ]
  },
  {
   "cell_type": "code",
   "execution_count": 12,
   "metadata": {},
   "outputs": [],
   "source": [
    "logs = !ls\n",
    "logs = [x for x in logs if \"MOBILENET-V2\" in x]"
   ]
  },
  {
   "cell_type": "code",
   "execution_count": 13,
   "metadata": {},
   "outputs": [],
   "source": [
    "ckp_metrics = calculate_metrics_gpu(logs)\n",
    "ckp_means = get_means(ckp_metrics)\n",
    "ckp_sds = get_sds(ckp_metrics)"
   ]
  },
  {
   "cell_type": "code",
   "execution_count": 14,
   "metadata": {},
   "outputs": [],
   "source": [
    "df = pd.DataFrame(ckp_means, index=['Accuracy (%)',\n",
    "                                 'Training time (s)', \n",
    "                                 'RAM Usage (MB)', \n",
    "                                 'CPU Usage (s)', \n",
    "                                 'GPU Usage (%)', \n",
    "                                 'Peak GPU Memory (MB)'])\n",
    "df = df.filter([\"nr\", \"lr\", \"gr\", \"lgr\", \"grd\", \"lgrd\"])"
   ]
  },
  {
   "cell_type": "code",
   "execution_count": 15,
   "metadata": {},
   "outputs": [
    {
     "data": {
      "text/html": [
       "<div>\n",
       "<style scoped>\n",
       "    .dataframe tbody tr th:only-of-type {\n",
       "        vertical-align: middle;\n",
       "    }\n",
       "\n",
       "    .dataframe tbody tr th {\n",
       "        vertical-align: top;\n",
       "    }\n",
       "\n",
       "    .dataframe thead th {\n",
       "        text-align: right;\n",
       "    }\n",
       "</style>\n",
       "<table border=\"1\" class=\"dataframe\">\n",
       "  <thead>\n",
       "    <tr style=\"text-align: right;\">\n",
       "      <th></th>\n",
       "      <th>nr</th>\n",
       "      <th>lr</th>\n",
       "      <th>gr</th>\n",
       "      <th>lgr</th>\n",
       "      <th>grd</th>\n",
       "      <th>lgrd</th>\n",
       "    </tr>\n",
       "  </thead>\n",
       "  <tbody>\n",
       "    <tr>\n",
       "      <th>Accuracy (%)</th>\n",
       "      <td>78.75</td>\n",
       "      <td>82.37</td>\n",
       "      <td>73.34</td>\n",
       "      <td>78.59</td>\n",
       "      <td>76.02</td>\n",
       "      <td>87.96</td>\n",
       "    </tr>\n",
       "    <tr>\n",
       "      <th>Training time (s)</th>\n",
       "      <td>720.23</td>\n",
       "      <td>678.17</td>\n",
       "      <td>922.10</td>\n",
       "      <td>743.73</td>\n",
       "      <td>994.47</td>\n",
       "      <td>723.03</td>\n",
       "    </tr>\n",
       "    <tr>\n",
       "      <th>RAM Usage (MB)</th>\n",
       "      <td>19.20</td>\n",
       "      <td>13.78</td>\n",
       "      <td>14.95</td>\n",
       "      <td>17.65</td>\n",
       "      <td>15.52</td>\n",
       "      <td>13.37</td>\n",
       "    </tr>\n",
       "    <tr>\n",
       "      <th>CPU Usage (s)</th>\n",
       "      <td>819.46</td>\n",
       "      <td>775.46</td>\n",
       "      <td>1,015.95</td>\n",
       "      <td>846.30</td>\n",
       "      <td>1,091.35</td>\n",
       "      <td>816.91</td>\n",
       "    </tr>\n",
       "    <tr>\n",
       "      <th>GPU Usage (%)</th>\n",
       "      <td>8.71</td>\n",
       "      <td>5.73</td>\n",
       "      <td>30.55</td>\n",
       "      <td>6.61</td>\n",
       "      <td>29.24</td>\n",
       "      <td>6.87</td>\n",
       "    </tr>\n",
       "    <tr>\n",
       "      <th>Peak GPU Memory (MB)</th>\n",
       "      <td>3,580.00</td>\n",
       "      <td>1,329.33</td>\n",
       "      <td>5,074.00</td>\n",
       "      <td>1,284.00</td>\n",
       "      <td>5,074.00</td>\n",
       "      <td>1,284.00</td>\n",
       "    </tr>\n",
       "  </tbody>\n",
       "</table>\n",
       "</div>"
      ],
      "text/plain": [
       "                           nr       lr       gr      lgr      grd     lgrd\n",
       "Accuracy (%)            78.75    82.37    73.34    78.59    76.02    87.96\n",
       "Training time (s)      720.23   678.17   922.10   743.73   994.47   723.03\n",
       "RAM Usage (MB)          19.20    13.78    14.95    17.65    15.52    13.37\n",
       "CPU Usage (s)          819.46   775.46 1,015.95   846.30 1,091.35   816.91\n",
       "GPU Usage (%)            8.71     5.73    30.55     6.61    29.24     6.87\n",
       "Peak GPU Memory (MB) 3,580.00 1,329.33 5,074.00 1,284.00 5,074.00 1,284.00"
      ]
     },
     "execution_count": 15,
     "metadata": {},
     "output_type": "execute_result"
    }
   ],
   "source": [
    "df"
   ]
  },
  {
   "cell_type": "markdown",
   "metadata": {},
   "source": [
    "# 3. ResNet Task-IL Results "
   ]
  },
  {
   "cell_type": "code",
   "execution_count": 16,
   "metadata": {},
   "outputs": [
    {
     "name": "stdout",
     "output_type": "stream",
     "text": [
      "/Users/nikhilchuramani/Desktop/Cambridge/PhDWork/Projects/LatentGenerativeReplay/experiments/ckplus/2022-06-26-17-23\n"
     ]
    }
   ],
   "source": [
    "%cd /Users/nikhilchuramani/Desktop/Cambridge/PhDWork/Projects/LatentGenerativeReplay/experiments/ckplus/2022-06-26-17-23"
   ]
  },
  {
   "cell_type": "code",
   "execution_count": 17,
   "metadata": {},
   "outputs": [],
   "source": [
    "logs = !ls\n",
    "logs = [x for x in logs if \"RESNET-18\" in x]"
   ]
  },
  {
   "cell_type": "code",
   "execution_count": 18,
   "metadata": {},
   "outputs": [],
   "source": [
    "ckp_metrics = calculate_metrics_gpu(logs)\n",
    "ckp_means = get_means(ckp_metrics)\n",
    "ckp_sds = get_sds(ckp_metrics)"
   ]
  },
  {
   "cell_type": "code",
   "execution_count": 19,
   "metadata": {},
   "outputs": [],
   "source": [
    "df = pd.DataFrame(ckp_means, index=['Accuracy (%)',\n",
    "                                 'Training time (s)', \n",
    "                                 'RAM Usage (MB)', \n",
    "                                 'CPU Usage (s)', \n",
    "                                 'GPU Usage (%)', \n",
    "                                 'Peak GPU Memory (MB)'])\n",
    "df = df.filter([\"nr\", \"lr\", \"gr\", \"lgr\", \"grd\", \"lgrd\"])"
   ]
  },
  {
   "cell_type": "code",
   "execution_count": 20,
   "metadata": {},
   "outputs": [
    {
     "data": {
      "text/html": [
       "<div>\n",
       "<style scoped>\n",
       "    .dataframe tbody tr th:only-of-type {\n",
       "        vertical-align: middle;\n",
       "    }\n",
       "\n",
       "    .dataframe tbody tr th {\n",
       "        vertical-align: top;\n",
       "    }\n",
       "\n",
       "    .dataframe thead th {\n",
       "        text-align: right;\n",
       "    }\n",
       "</style>\n",
       "<table border=\"1\" class=\"dataframe\">\n",
       "  <thead>\n",
       "    <tr style=\"text-align: right;\">\n",
       "      <th></th>\n",
       "      <th>nr</th>\n",
       "      <th>lr</th>\n",
       "      <th>gr</th>\n",
       "      <th>lgr</th>\n",
       "      <th>grd</th>\n",
       "      <th>lgrd</th>\n",
       "    </tr>\n",
       "  </thead>\n",
       "  <tbody>\n",
       "    <tr>\n",
       "      <th>Accuracy (%)</th>\n",
       "      <td>82.74</td>\n",
       "      <td>81.66</td>\n",
       "      <td>74.34</td>\n",
       "      <td>79.48</td>\n",
       "      <td>74.63</td>\n",
       "      <td>88.47</td>\n",
       "    </tr>\n",
       "    <tr>\n",
       "      <th>Training time (s)</th>\n",
       "      <td>701.57</td>\n",
       "      <td>668.03</td>\n",
       "      <td>920.30</td>\n",
       "      <td>702.10</td>\n",
       "      <td>923.60</td>\n",
       "      <td>722.80</td>\n",
       "    </tr>\n",
       "    <tr>\n",
       "      <th>RAM Usage (MB)</th>\n",
       "      <td>24.10</td>\n",
       "      <td>13.91</td>\n",
       "      <td>14.29</td>\n",
       "      <td>14.95</td>\n",
       "      <td>14.32</td>\n",
       "      <td>14.93</td>\n",
       "    </tr>\n",
       "    <tr>\n",
       "      <th>CPU Usage (s)</th>\n",
       "      <td>801.59</td>\n",
       "      <td>768.71</td>\n",
       "      <td>1,018.13</td>\n",
       "      <td>798.76</td>\n",
       "      <td>1,019.85</td>\n",
       "      <td>820.10</td>\n",
       "    </tr>\n",
       "    <tr>\n",
       "      <th>GPU Usage (%)</th>\n",
       "      <td>9.24</td>\n",
       "      <td>6.07</td>\n",
       "      <td>31.53</td>\n",
       "      <td>7.24</td>\n",
       "      <td>31.22</td>\n",
       "      <td>6.90</td>\n",
       "    </tr>\n",
       "    <tr>\n",
       "      <th>Peak GPU Memory (MB)</th>\n",
       "      <td>3,618.00</td>\n",
       "      <td>1,321.33</td>\n",
       "      <td>5,166.00</td>\n",
       "      <td>1,308.00</td>\n",
       "      <td>5,166.00</td>\n",
       "      <td>1,308.00</td>\n",
       "    </tr>\n",
       "  </tbody>\n",
       "</table>\n",
       "</div>"
      ],
      "text/plain": [
       "                           nr       lr       gr      lgr      grd     lgrd\n",
       "Accuracy (%)            82.74    81.66    74.34    79.48    74.63    88.47\n",
       "Training time (s)      701.57   668.03   920.30   702.10   923.60   722.80\n",
       "RAM Usage (MB)          24.10    13.91    14.29    14.95    14.32    14.93\n",
       "CPU Usage (s)          801.59   768.71 1,018.13   798.76 1,019.85   820.10\n",
       "GPU Usage (%)            9.24     6.07    31.53     7.24    31.22     6.90\n",
       "Peak GPU Memory (MB) 3,618.00 1,321.33 5,166.00 1,308.00 5,166.00 1,308.00"
      ]
     },
     "execution_count": 20,
     "metadata": {},
     "output_type": "execute_result"
    }
   ],
   "source": [
    "df"
   ]
  },
  {
   "cell_type": "markdown",
   "metadata": {},
   "source": [
    "# 4. VGG-16 Task-IL Results "
   ]
  },
  {
   "cell_type": "code",
   "execution_count": 21,
   "metadata": {},
   "outputs": [
    {
     "name": "stdout",
     "output_type": "stream",
     "text": [
      "/Users/nikhilchuramani/Desktop/Cambridge/PhDWork/Projects/LatentGenerativeReplay/experiments/ckplus/2022-06-26-17-23\n"
     ]
    }
   ],
   "source": [
    "%cd /Users/nikhilchuramani/Desktop/Cambridge/PhDWork/Projects/LatentGenerativeReplay/experiments/ckplus/2022-06-26-17-23"
   ]
  },
  {
   "cell_type": "code",
   "execution_count": 22,
   "metadata": {},
   "outputs": [],
   "source": [
    "logs = !ls\n",
    "logs = [x for x in logs if \"VGG-16\" in x]"
   ]
  },
  {
   "cell_type": "code",
   "execution_count": 23,
   "metadata": {},
   "outputs": [],
   "source": [
    "ckp_metrics = calculate_metrics_gpu(logs)\n",
    "ckp_means = get_means(ckp_metrics)\n",
    "ckp_sds = get_sds(ckp_metrics)"
   ]
  },
  {
   "cell_type": "code",
   "execution_count": 24,
   "metadata": {},
   "outputs": [],
   "source": [
    "df = pd.DataFrame(ckp_means, index=['Accuracy (%)',\n",
    "                                 'Training time (s)', \n",
    "                                 'RAM Usage (MB)', \n",
    "                                 'CPU Usage (s)', \n",
    "                                 'GPU Usage (%)', \n",
    "                                 'Peak GPU Memory (MB)'])\n",
    "df = df.filter([\"nr\", \"lr\", \"gr\", \"lgr\", \"grd\", \"lgrd\"])"
   ]
  },
  {
   "cell_type": "code",
   "execution_count": 25,
   "metadata": {},
   "outputs": [
    {
     "data": {
      "text/html": [
       "<div>\n",
       "<style scoped>\n",
       "    .dataframe tbody tr th:only-of-type {\n",
       "        vertical-align: middle;\n",
       "    }\n",
       "\n",
       "    .dataframe tbody tr th {\n",
       "        vertical-align: top;\n",
       "    }\n",
       "\n",
       "    .dataframe thead th {\n",
       "        text-align: right;\n",
       "    }\n",
       "</style>\n",
       "<table border=\"1\" class=\"dataframe\">\n",
       "  <thead>\n",
       "    <tr style=\"text-align: right;\">\n",
       "      <th></th>\n",
       "      <th>nr</th>\n",
       "      <th>lr</th>\n",
       "      <th>gr</th>\n",
       "      <th>lgr</th>\n",
       "      <th>grd</th>\n",
       "      <th>lgrd</th>\n",
       "    </tr>\n",
       "  </thead>\n",
       "  <tbody>\n",
       "    <tr>\n",
       "      <th>Accuracy (%)</th>\n",
       "      <td>97.29</td>\n",
       "      <td>96.96</td>\n",
       "      <td>78.04</td>\n",
       "      <td>92.03</td>\n",
       "      <td>80.30</td>\n",
       "      <td>92.93</td>\n",
       "    </tr>\n",
       "    <tr>\n",
       "      <th>Training time (s)</th>\n",
       "      <td>834.40</td>\n",
       "      <td>741.17</td>\n",
       "      <td>1,164.33</td>\n",
       "      <td>827.80</td>\n",
       "      <td>1,189.10</td>\n",
       "      <td>839.00</td>\n",
       "    </tr>\n",
       "    <tr>\n",
       "      <th>RAM Usage (MB)</th>\n",
       "      <td>42.18</td>\n",
       "      <td>12.99</td>\n",
       "      <td>13.85</td>\n",
       "      <td>15.01</td>\n",
       "      <td>13.86</td>\n",
       "      <td>14.52</td>\n",
       "    </tr>\n",
       "    <tr>\n",
       "      <th>CPU Usage (s)</th>\n",
       "      <td>927.78</td>\n",
       "      <td>834.23</td>\n",
       "      <td>1,259.08</td>\n",
       "      <td>924.10</td>\n",
       "      <td>1,287.63</td>\n",
       "      <td>937.37</td>\n",
       "    </tr>\n",
       "    <tr>\n",
       "      <th>GPU Usage (%)</th>\n",
       "      <td>29.42</td>\n",
       "      <td>19.72</td>\n",
       "      <td>44.70</td>\n",
       "      <td>19.07</td>\n",
       "      <td>43.73</td>\n",
       "      <td>19.02</td>\n",
       "    </tr>\n",
       "    <tr>\n",
       "      <th>Peak GPU Memory (MB)</th>\n",
       "      <td>4,816.67</td>\n",
       "      <td>2,556.00</td>\n",
       "      <td>6,820.00</td>\n",
       "      <td>2,354.00</td>\n",
       "      <td>6,820.00</td>\n",
       "      <td>2,354.00</td>\n",
       "    </tr>\n",
       "  </tbody>\n",
       "</table>\n",
       "</div>"
      ],
      "text/plain": [
       "                           nr       lr       gr      lgr      grd     lgrd\n",
       "Accuracy (%)            97.29    96.96    78.04    92.03    80.30    92.93\n",
       "Training time (s)      834.40   741.17 1,164.33   827.80 1,189.10   839.00\n",
       "RAM Usage (MB)          42.18    12.99    13.85    15.01    13.86    14.52\n",
       "CPU Usage (s)          927.78   834.23 1,259.08   924.10 1,287.63   937.37\n",
       "GPU Usage (%)           29.42    19.72    44.70    19.07    43.73    19.02\n",
       "Peak GPU Memory (MB) 4,816.67 2,556.00 6,820.00 2,354.00 6,820.00 2,354.00"
      ]
     },
     "execution_count": 25,
     "metadata": {},
     "output_type": "execute_result"
    }
   ],
   "source": [
    "df"
   ]
  }
 ],
 "metadata": {
  "kernelspec": {
   "display_name": "Python 3 (ipykernel)",
   "language": "python",
   "name": "python3"
  },
  "language_info": {
   "codemirror_mode": {
    "name": "ipython",
    "version": 3
   },
   "file_extension": ".py",
   "mimetype": "text/x-python",
   "name": "python",
   "nbconvert_exporter": "python",
   "pygments_lexer": "ipython3",
   "version": "3.9.2"
  }
 },
 "nbformat": 4,
 "nbformat_minor": 4
}