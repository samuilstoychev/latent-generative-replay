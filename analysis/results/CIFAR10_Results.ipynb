{
 "cells": [
  {
   "cell_type": "markdown",
   "id": "2f8a40e5",
   "metadata": {
    "pycharm": {
     "name": "#%% md\n"
    }
   },
   "source": [
    "# CIFAR10 Results"
   ]
  },
  {
   "cell_type": "code",
   "execution_count": 1,
   "id": "627f41a6",
   "metadata": {
    "pycharm": {
     "name": "#%%\n"
    }
   },
   "outputs": [],
   "source": [
    "import matplotlib.pyplot as plt\n",
    "import numpy as np\n",
    "import pandas as pd\n",
    "\n",
    "pd.options.display.float_format = \"{:,.2f}\".format"
   ]
  },
  {
   "cell_type": "code",
   "execution_count": 2,
   "id": "c6a140fc",
   "metadata": {
    "pycharm": {
     "name": "#%%\n"
    }
   },
   "outputs": [],
   "source": [
    "def extract_metrics_gpu(filename): \n",
    "    f = open(filename, 'r')\n",
    "    lines = f.readlines() \n",
    "    ram_init = None\n",
    "    ram_peak = None\n",
    "    cpu_init = None \n",
    "    cpu_end = None \n",
    "    for line in lines: \n",
    "        if \"=> Average precision\" in line: \n",
    "            accuracy = float(line.split(\" \")[-1])\n",
    "        if \"=> Total training time\" in line: \n",
    "            training_time = float(line.split(\" \")[-2])\n",
    "        if \"RAM BEFORE TRAINING:\" in line: \n",
    "            ram_init = float(line.split(\" \")[-1])\n",
    "        if \"PEAK TRAINING RAM:\" in line: \n",
    "            ram_peak = float(line.split(\" \")[-1])\n",
    "        if \"CPU BEFORE TRAINING:\" in line: \n",
    "            cpu_init = eval(line.split(\":\")[-1])\n",
    "        if \"CPU BEFORE EVALUATION:\" in line: \n",
    "            cpu_end = eval(line.split(\":\")[-1])\n",
    "        if \"GPU BEFORE EVALUATION:\" in line: \n",
    "            gpu_u, gpu_mem = eval(line.split(\":\")[-1])\n",
    "        \n",
    "    cpu_u, cpu_k = (cpu_end[0] - cpu_init[0], cpu_end[1] - cpu_init[1])\n",
    "    return (accuracy * 100, training_time, (ram_peak-ram_init) * 1024, cpu_u + cpu_k, gpu_u, gpu_mem)"
   ]
  },
  {
   "cell_type": "code",
   "execution_count": 3,
   "id": "2526360c",
   "metadata": {
    "pycharm": {
     "name": "#%%\n"
    }
   },
   "outputs": [],
   "source": [
    "def calculate_metrics_gpu(files): \n",
    "    mlp_metrics = dict()\n",
    "    cnn_metrics = dict()\n",
    "    \n",
    "    for file in files: \n",
    "        arch, method, i = file.split(\"_\") \n",
    "        metrics = mlp_metrics if arch == \"mlp\" else cnn_metrics\n",
    "        \n",
    "        if method in metrics: \n",
    "            metrics[method].append(extract_metrics_gpu(file))\n",
    "        else: \n",
    "            metrics[method] = [extract_metrics_gpu(file)] \n",
    "    \n",
    "    return (mlp_metrics, cnn_metrics)"
   ]
  },
  {
   "cell_type": "code",
   "execution_count": 4,
   "id": "3c5223a4",
   "metadata": {
    "pycharm": {
     "name": "#%%\n"
    }
   },
   "outputs": [],
   "source": [
    "def get_means(metrics): \n",
    "    return {method: [sum(x)/len(x) for x in list(zip(*metrics[method]))] for method in metrics}"
   ]
  },
  {
   "cell_type": "markdown",
   "id": "a17e2ab9",
   "metadata": {
    "pycharm": {
     "name": "#%% md\n"
    }
   },
   "source": [
    "# 1. Task-IL"
   ]
  },
  {
   "cell_type": "code",
   "execution_count": 5,
   "id": "ac52326c",
   "metadata": {
    "pycharm": {
     "name": "#%%\n"
    }
   },
   "outputs": [
    {
     "name": "stdout",
     "output_type": "stream",
     "text": [
      "/auto/homes/nc528/Desktop/Projects/MPhilSupervisions/ss2719/research_project/experiments/cifar10/2022-01-17-17-28/task_gpu_fi\n"
     ]
    }
   ],
   "source": [
    "%cd /home/nc528/Desktop/Projects/MPhilSupervisions/ss2719/research_project/experiments/cifar10/2022-01-17-17-28/task_gpu_fi\n",
    "\n",
    "logs = !ls\n",
    "# logs = !ls | grep \"cnn\\|mlp\"\n",
    "\n",
    "mlp_metrics, cnn_metrics = calculate_metrics_gpu(logs)\n",
    "mlp_metrics = get_means(mlp_metrics)\n",
    "cnn_metrics = get_means(cnn_metrics)"
   ]
  },
  {
   "cell_type": "markdown",
   "id": "4ce9ff99",
   "metadata": {
    "pycharm": {
     "name": "#%% md\n"
    }
   },
   "source": [
    "## 1.1. MLP Results"
   ]
  },
  {
   "cell_type": "code",
   "execution_count": 6,
   "id": "68a9cd06",
   "metadata": {
    "pycharm": {
     "name": "#%%\n"
    }
   },
   "outputs": [],
   "source": [
    "df = pd.DataFrame(mlp_metrics, index=['Accuracy (%)',\n",
    "                                 'Training time (s)', \n",
    "                                 'RAM Usage (MB)', \n",
    "                                 'CPU Usage (s)', \n",
    "                                 'GPU Usage (%)', \n",
    "                                 'GPU Memory (MB)']).filter([\"nr\", \"lr\", \"gr\", \"lgr\", \"grd\", \"lgrd\"])"
   ]
  },
  {
   "cell_type": "markdown",
   "id": "58e2a965",
   "metadata": {
    "pycharm": {
     "name": "#%% md\n"
    }
   },
   "source": [
    "\n",
    "\n",
    "## 1.2. CNN Results"
   ]
  },
  {
   "cell_type": "code",
   "execution_count": 7,
   "id": "545c5e83",
   "metadata": {
    "pycharm": {
     "name": "#%%\n"
    }
   },
   "outputs": [
    {
     "data": {
      "text/html": [
       "<div>\n",
       "<style scoped>\n",
       "    .dataframe tbody tr th:only-of-type {\n",
       "        vertical-align: middle;\n",
       "    }\n",
       "\n",
       "    .dataframe tbody tr th {\n",
       "        vertical-align: top;\n",
       "    }\n",
       "\n",
       "    .dataframe thead th {\n",
       "        text-align: right;\n",
       "    }\n",
       "</style>\n",
       "<table border=\"1\" class=\"dataframe\">\n",
       "  <thead>\n",
       "    <tr style=\"text-align: right;\">\n",
       "      <th></th>\n",
       "      <th>nr</th>\n",
       "      <th>lr</th>\n",
       "      <th>gr</th>\n",
       "      <th>lgr</th>\n",
       "      <th>grd</th>\n",
       "      <th>lgrd</th>\n",
       "    </tr>\n",
       "  </thead>\n",
       "  <tbody>\n",
       "    <tr>\n",
       "      <th>Accuracy (%)</th>\n",
       "      <td>67.83</td>\n",
       "      <td>66.53</td>\n",
       "      <td>68.23</td>\n",
       "      <td>66.80</td>\n",
       "      <td>69.42</td>\n",
       "      <td>69.11</td>\n",
       "    </tr>\n",
       "    <tr>\n",
       "      <th>Training time (s)</th>\n",
       "      <td>76.43</td>\n",
       "      <td>73.37</td>\n",
       "      <td>107.23</td>\n",
       "      <td>101.90</td>\n",
       "      <td>108.57</td>\n",
       "      <td>103.87</td>\n",
       "    </tr>\n",
       "    <tr>\n",
       "      <th>RAM Usage (MB)</th>\n",
       "      <td>1.99</td>\n",
       "      <td>2.61</td>\n",
       "      <td>2.13</td>\n",
       "      <td>2.18</td>\n",
       "      <td>2.13</td>\n",
       "      <td>2.26</td>\n",
       "    </tr>\n",
       "    <tr>\n",
       "      <th>CPU Usage (s)</th>\n",
       "      <td>135.36</td>\n",
       "      <td>130.82</td>\n",
       "      <td>163.98</td>\n",
       "      <td>157.82</td>\n",
       "      <td>163.20</td>\n",
       "      <td>158.42</td>\n",
       "    </tr>\n",
       "    <tr>\n",
       "      <th>GPU Usage (%)</th>\n",
       "      <td>7.62</td>\n",
       "      <td>6.21</td>\n",
       "      <td>18.97</td>\n",
       "      <td>12.12</td>\n",
       "      <td>18.92</td>\n",
       "      <td>11.52</td>\n",
       "    </tr>\n",
       "    <tr>\n",
       "      <th>GPU Memory (MB)</th>\n",
       "      <td>90.00</td>\n",
       "      <td>12.00</td>\n",
       "      <td>160.00</td>\n",
       "      <td>4.00</td>\n",
       "      <td>160.00</td>\n",
       "      <td>4.00</td>\n",
       "    </tr>\n",
       "  </tbody>\n",
       "</table>\n",
       "</div>"
      ],
      "text/plain": [
       "                      nr     lr     gr    lgr    grd   lgrd\n",
       "Accuracy (%)       67.83  66.53  68.23  66.80  69.42  69.11\n",
       "Training time (s)  76.43  73.37 107.23 101.90 108.57 103.87\n",
       "RAM Usage (MB)      1.99   2.61   2.13   2.18   2.13   2.26\n",
       "CPU Usage (s)     135.36 130.82 163.98 157.82 163.20 158.42\n",
       "GPU Usage (%)       7.62   6.21  18.97  12.12  18.92  11.52\n",
       "GPU Memory (MB)    90.00  12.00 160.00   4.00 160.00   4.00"
      ]
     },
     "execution_count": 7,
     "metadata": {},
     "output_type": "execute_result"
    }
   ],
   "source": [
    "pd.DataFrame(cnn_metrics, index=['Accuracy (%)', \n",
    "                                 'Training time (s)', \n",
    "                                 'RAM Usage (MB)', \n",
    "                                 'CPU Usage (s)', \n",
    "                                 'GPU Usage (%)', \n",
    "                                 'GPU Memory (MB)']).filter([\"nr\", \"lr\", \"gr\", \"lgr\", \"grd\", \"lgrd\"])"
   ]
  },
  {
   "cell_type": "markdown",
   "id": "023fd3e8",
   "metadata": {
    "pycharm": {
     "name": "#%% md\n"
    }
   },
   "source": [
    "# 2. Class-IL "
   ]
  },
  {
   "cell_type": "code",
   "execution_count": 8,
   "id": "960d716c",
   "metadata": {
    "pycharm": {
     "name": "#%%\n"
    }
   },
   "outputs": [
    {
     "name": "stdout",
     "output_type": "stream",
     "text": [
      "/auto/homes/nc528/Desktop/Projects/MPhilSupervisions/ss2719/research_project/experiments/cifar10/2022-01-14-16-32/class_gpu_fi\n"
     ]
    }
   ],
   "source": [
    "%cd /home/nc528/Desktop/Projects/MPhilSupervisions/ss2719/research_project/experiments/cifar10/2022-01-14-16-32/class_gpu_fi\n",
    "\n",
    "logs = !ls | grep \"cnn\\|mlp\"\n",
    "\n",
    "mlp_metrics, cnn_metrics = calculate_metrics_gpu(logs)\n",
    "mlp_metrics = get_means(mlp_metrics)\n",
    "cnn_metrics = get_means(cnn_metrics)"
   ]
  },
  {
   "cell_type": "markdown",
   "id": "fb433a58",
   "metadata": {
    "pycharm": {
     "name": "#%% md\n"
    }
   },
   "source": [
    "## 2.1. MLP Results"
   ]
  },
  {
   "cell_type": "code",
   "execution_count": 9,
   "id": "583402ad",
   "metadata": {
    "pycharm": {
     "name": "#%%\n"
    }
   },
   "outputs": [
    {
     "data": {
      "text/html": [
       "<div>\n",
       "<style scoped>\n",
       "    .dataframe tbody tr th:only-of-type {\n",
       "        vertical-align: middle;\n",
       "    }\n",
       "\n",
       "    .dataframe tbody tr th {\n",
       "        vertical-align: top;\n",
       "    }\n",
       "\n",
       "    .dataframe thead th {\n",
       "        text-align: right;\n",
       "    }\n",
       "</style>\n",
       "<table border=\"1\" class=\"dataframe\">\n",
       "  <thead>\n",
       "    <tr style=\"text-align: right;\">\n",
       "      <th></th>\n",
       "      <th>nr</th>\n",
       "      <th>lr</th>\n",
       "      <th>gr</th>\n",
       "      <th>lgr</th>\n",
       "      <th>grd</th>\n",
       "      <th>lgrd</th>\n",
       "    </tr>\n",
       "  </thead>\n",
       "  <tbody>\n",
       "    <tr>\n",
       "      <th>Accuracy (%)</th>\n",
       "      <td>26.18</td>\n",
       "      <td>26.51</td>\n",
       "      <td>12.53</td>\n",
       "      <td>10.39</td>\n",
       "      <td>16.61</td>\n",
       "      <td>14.38</td>\n",
       "    </tr>\n",
       "    <tr>\n",
       "      <th>Training time (s)</th>\n",
       "      <td>85.13</td>\n",
       "      <td>82.47</td>\n",
       "      <td>113.80</td>\n",
       "      <td>108.57</td>\n",
       "      <td>116.37</td>\n",
       "      <td>107.97</td>\n",
       "    </tr>\n",
       "    <tr>\n",
       "      <th>RAM Usage (MB)</th>\n",
       "      <td>0.52</td>\n",
       "      <td>1.85</td>\n",
       "      <td>2.89</td>\n",
       "      <td>3.90</td>\n",
       "      <td>3.50</td>\n",
       "      <td>4.14</td>\n",
       "    </tr>\n",
       "    <tr>\n",
       "      <th>CPU Usage (s)</th>\n",
       "      <td>148.40</td>\n",
       "      <td>145.72</td>\n",
       "      <td>176.49</td>\n",
       "      <td>171.88</td>\n",
       "      <td>181.21</td>\n",
       "      <td>170.17</td>\n",
       "    </tr>\n",
       "    <tr>\n",
       "      <th>GPU Usage (%)</th>\n",
       "      <td>5.81</td>\n",
       "      <td>4.15</td>\n",
       "      <td>16.31</td>\n",
       "      <td>9.24</td>\n",
       "      <td>16.28</td>\n",
       "      <td>8.91</td>\n",
       "    </tr>\n",
       "    <tr>\n",
       "      <th>GPU Memory (MB)</th>\n",
       "      <td>164.00</td>\n",
       "      <td>18.00</td>\n",
       "      <td>184.00</td>\n",
       "      <td>6.00</td>\n",
       "      <td>184.00</td>\n",
       "      <td>6.00</td>\n",
       "    </tr>\n",
       "  </tbody>\n",
       "</table>\n",
       "</div>"
      ],
      "text/plain": [
       "                      nr     lr     gr    lgr    grd   lgrd\n",
       "Accuracy (%)       26.18  26.51  12.53  10.39  16.61  14.38\n",
       "Training time (s)  85.13  82.47 113.80 108.57 116.37 107.97\n",
       "RAM Usage (MB)      0.52   1.85   2.89   3.90   3.50   4.14\n",
       "CPU Usage (s)     148.40 145.72 176.49 171.88 181.21 170.17\n",
       "GPU Usage (%)       5.81   4.15  16.31   9.24  16.28   8.91\n",
       "GPU Memory (MB)   164.00  18.00 184.00   6.00 184.00   6.00"
      ]
     },
     "execution_count": 9,
     "metadata": {},
     "output_type": "execute_result"
    }
   ],
   "source": [
    "pd.DataFrame(mlp_metrics, index=['Accuracy (%)', \n",
    "                                 'Training time (s)', \n",
    "                                 'RAM Usage (MB)', \n",
    "                                 'CPU Usage (s)', \n",
    "                                 'GPU Usage (%)', \n",
    "                                 'GPU Memory (MB)']).filter([\"nr\", \"lr\", \"gr\", \"lgr\", \"grd\", \"lgrd\"])"
   ]
  },
  {
   "cell_type": "markdown",
   "id": "44e8778b",
   "metadata": {
    "pycharm": {
     "name": "#%% md\n"
    }
   },
   "source": [
    "## 2.2. CNN Results"
   ]
  },
  {
   "cell_type": "code",
   "execution_count": 10,
   "id": "aff3081a",
   "metadata": {
    "pycharm": {
     "name": "#%%\n"
    }
   },
   "outputs": [
    {
     "data": {
      "text/html": [
       "<div>\n",
       "<style scoped>\n",
       "    .dataframe tbody tr th:only-of-type {\n",
       "        vertical-align: middle;\n",
       "    }\n",
       "\n",
       "    .dataframe tbody tr th {\n",
       "        vertical-align: top;\n",
       "    }\n",
       "\n",
       "    .dataframe thead th {\n",
       "        text-align: right;\n",
       "    }\n",
       "</style>\n",
       "<table border=\"1\" class=\"dataframe\">\n",
       "  <thead>\n",
       "    <tr style=\"text-align: right;\">\n",
       "      <th></th>\n",
       "      <th>nr</th>\n",
       "      <th>lr</th>\n",
       "      <th>gr</th>\n",
       "      <th>lgr</th>\n",
       "      <th>grd</th>\n",
       "      <th>lgrd</th>\n",
       "    </tr>\n",
       "  </thead>\n",
       "  <tbody>\n",
       "    <tr>\n",
       "      <th>Accuracy (%)</th>\n",
       "      <td>27.70</td>\n",
       "      <td>26.73</td>\n",
       "      <td>12.75</td>\n",
       "      <td>14.39</td>\n",
       "      <td>14.12</td>\n",
       "      <td>13.36</td>\n",
       "    </tr>\n",
       "    <tr>\n",
       "      <th>Training time (s)</th>\n",
       "      <td>181.83</td>\n",
       "      <td>172.37</td>\n",
       "      <td>239.80</td>\n",
       "      <td>222.83</td>\n",
       "      <td>241.50</td>\n",
       "      <td>231.10</td>\n",
       "    </tr>\n",
       "    <tr>\n",
       "      <th>RAM Usage (MB)</th>\n",
       "      <td>1.95</td>\n",
       "      <td>3.44</td>\n",
       "      <td>2.05</td>\n",
       "      <td>1.79</td>\n",
       "      <td>1.83</td>\n",
       "      <td>1.76</td>\n",
       "    </tr>\n",
       "    <tr>\n",
       "      <th>CPU Usage (s)</th>\n",
       "      <td>309.86</td>\n",
       "      <td>303.19</td>\n",
       "      <td>364.62</td>\n",
       "      <td>347.70</td>\n",
       "      <td>366.92</td>\n",
       "      <td>358.53</td>\n",
       "    </tr>\n",
       "    <tr>\n",
       "      <th>GPU Usage (%)</th>\n",
       "      <td>6.53</td>\n",
       "      <td>5.09</td>\n",
       "      <td>16.90</td>\n",
       "      <td>9.91</td>\n",
       "      <td>16.99</td>\n",
       "      <td>9.57</td>\n",
       "    </tr>\n",
       "    <tr>\n",
       "      <th>GPU Memory (MB)</th>\n",
       "      <td>138.67</td>\n",
       "      <td>18.67</td>\n",
       "      <td>160.00</td>\n",
       "      <td>4.00</td>\n",
       "      <td>160.00</td>\n",
       "      <td>4.00</td>\n",
       "    </tr>\n",
       "  </tbody>\n",
       "</table>\n",
       "</div>"
      ],
      "text/plain": [
       "                      nr     lr     gr    lgr    grd   lgrd\n",
       "Accuracy (%)       27.70  26.73  12.75  14.39  14.12  13.36\n",
       "Training time (s) 181.83 172.37 239.80 222.83 241.50 231.10\n",
       "RAM Usage (MB)      1.95   3.44   2.05   1.79   1.83   1.76\n",
       "CPU Usage (s)     309.86 303.19 364.62 347.70 366.92 358.53\n",
       "GPU Usage (%)       6.53   5.09  16.90   9.91  16.99   9.57\n",
       "GPU Memory (MB)   138.67  18.67 160.00   4.00 160.00   4.00"
      ]
     },
     "execution_count": 10,
     "metadata": {},
     "output_type": "execute_result"
    }
   ],
   "source": [
    "pd.DataFrame(cnn_metrics, index=['Accuracy (%)', \n",
    "                                 'Training time (s)', \n",
    "                                 'RAM Usage (MB)', \n",
    "                                 'CPU Usage (s)', \n",
    "                                 'GPU Usage (%)', \n",
    "                                 'GPU Memory (MB)']).filter([\"nr\", \"lr\", \"gr\", \"lgr\", \"grd\", \"lgrd\"])"
   ]
  }
 ],
 "metadata": {
  "kernelspec": {
   "display_name": "Python 3.8.6 64-bit",
   "language": "python",
   "name": "python3"
  },
  "language_info": {
   "codemirror_mode": {
    "name": "ipython",
    "version": 3
   },
   "file_extension": ".py",
   "mimetype": "text/x-python",
   "name": "python",
   "nbconvert_exporter": "python",
   "pygments_lexer": "ipython3",
   "version": "3.8.6"
  },
  "vscode": {
   "interpreter": {
    "hash": "aee8b7b246df8f9039afb4144a1f6fd8d2ca17a180786b69acc140d282b71a49"
   }
  }
 },
 "nbformat": 4,
 "nbformat_minor": 5
}
