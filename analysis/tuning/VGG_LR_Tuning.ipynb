{
 "cells": [
  {
   "cell_type": "code",
   "execution_count": 1,
   "metadata": {},
   "outputs": [],
   "source": [
    "import matplotlib.pyplot as plt\n",
    "import numpy as np\n",
    "import pandas as pd\n",
    "import seaborn as sns"
   ]
  },
  {
   "cell_type": "code",
   "execution_count": 2,
   "metadata": {},
   "outputs": [
    {
     "name": "stdout",
     "output_type": "stream",
     "text": [
      "/Users/samuilstoychev/Desktop/research_project_repo/research_project/experiments/vgg_lr_tuning/2021-04-24-04-06\n"
     ]
    }
   ],
   "source": [
    "%cd ../experiments/vgg_lr_tuning/2021-04-24-04-06/"
   ]
  },
  {
   "cell_type": "code",
   "execution_count": 3,
   "metadata": {},
   "outputs": [
    {
     "name": "stdout",
     "output_type": "stream",
     "text": [
      "1000_1000_0 1000_200_0  2000_1000_0 2000_200_0  3000_1000_0 3000_200_0\r\n",
      "1000_1000_1 1000_200_1  2000_1000_1 2000_200_1  3000_1000_1 3000_200_1\r\n",
      "1000_1000_2 1000_200_2  2000_1000_2 2000_200_2  3000_1000_2 3000_200_2\r\n",
      "1000_1500_0 1000_500_0  2000_1500_0 2000_500_0  3000_1500_0 3000_500_0\r\n",
      "1000_1500_1 1000_500_1  2000_1500_1 2000_500_1  3000_1500_1 3000_500_1\r\n",
      "1000_1500_2 1000_500_2  2000_1500_2 2000_500_2  3000_1500_2 3000_500_2\r\n"
     ]
    }
   ],
   "source": [
    "!ls "
   ]
  },
  {
   "cell_type": "code",
   "execution_count": 4,
   "metadata": {},
   "outputs": [],
   "source": [
    "logs = !ls"
   ]
  },
  {
   "cell_type": "code",
   "execution_count": 5,
   "metadata": {},
   "outputs": [],
   "source": [
    "class Metrics: \n",
    "    def __init__(self, logs): \n",
    "        self.logs = logs \n",
    "        self.raw_metrics = self.calculate_metrics(logs)\n",
    "        \n",
    "    def extract_metrics(self, filename): \n",
    "        f = open(filename, 'r')\n",
    "        lines = f.readlines() \n",
    "        gpu_usage = None\n",
    "        gpu_mem = None\n",
    "        for line in lines: \n",
    "            if \"=> Average precision\" in line: \n",
    "                accuracy = float(line.split(\" \")[-1])\n",
    "            if \"=> Total training time\" in line: \n",
    "                training_time = float(line.split(\" \")[-2])\n",
    "            if \"GPU BEFORE EVALUATION:\" in line: \n",
    "                gpu_usage, gpu_mem = eval(line[22:])\n",
    "        return (accuracy, training_time, gpu_usage, gpu_mem)\n",
    "    \n",
    "    def calculate_metrics(self, files): \n",
    "        metrics = dict()\n",
    "\n",
    "        for file in files: \n",
    "            iters, g_fc_uni, _ = file.split(\"_\")\n",
    "            iters = int(iters)\n",
    "            g_fc_uni = int(g_fc_uni)\n",
    "            if (iters, g_fc_uni) in metrics: \n",
    "                metrics[(iters, g_fc_uni)].append(self.extract_metrics(file))\n",
    "            else: \n",
    "                metrics[(iters, g_fc_uni)] = [self.extract_metrics(file)] \n",
    "\n",
    "        return metrics\n",
    "    \n",
    "    def get_metrics_df(self): \n",
    "        rows = []\n",
    "        for key in self.raw_metrics: \n",
    "            vals = self.raw_metrics[key]\n",
    "            rows.append([key[0], key[1]] + [np.mean(x) for x in list(zip(*vals))])\n",
    "        return pd.DataFrame(rows, columns=[\"iters\", \"buffer_size\", \"Accuracy\", \"Training time (s)\", \"GPU Usage (%)\", \"GPU Memory (MB)\"])\n",
    "            "
   ]
  },
  {
   "cell_type": "code",
   "execution_count": 6,
   "metadata": {},
   "outputs": [
    {
     "data": {
      "text/html": [
       "<div>\n",
       "<style scoped>\n",
       "    .dataframe tbody tr th:only-of-type {\n",
       "        vertical-align: middle;\n",
       "    }\n",
       "\n",
       "    .dataframe tbody tr th {\n",
       "        vertical-align: top;\n",
       "    }\n",
       "\n",
       "    .dataframe thead th {\n",
       "        text-align: right;\n",
       "    }\n",
       "</style>\n",
       "<table border=\"1\" class=\"dataframe\">\n",
       "  <thead>\n",
       "    <tr style=\"text-align: right;\">\n",
       "      <th></th>\n",
       "      <th>iters</th>\n",
       "      <th>buffer_size</th>\n",
       "      <th>Accuracy</th>\n",
       "      <th>Training time (s)</th>\n",
       "      <th>GPU Usage (%)</th>\n",
       "      <th>GPU Memory (MB)</th>\n",
       "    </tr>\n",
       "  </thead>\n",
       "  <tbody>\n",
       "    <tr>\n",
       "      <th>0</th>\n",
       "      <td>1000</td>\n",
       "      <td>1000</td>\n",
       "      <td>0.766500</td>\n",
       "      <td>639.500000</td>\n",
       "      <td>15.413141</td>\n",
       "      <td>216.000000</td>\n",
       "    </tr>\n",
       "    <tr>\n",
       "      <th>1</th>\n",
       "      <td>1000</td>\n",
       "      <td>1500</td>\n",
       "      <td>0.779933</td>\n",
       "      <td>640.533333</td>\n",
       "      <td>15.254087</td>\n",
       "      <td>320.000000</td>\n",
       "    </tr>\n",
       "    <tr>\n",
       "      <th>2</th>\n",
       "      <td>1000</td>\n",
       "      <td>200</td>\n",
       "      <td>0.784200</td>\n",
       "      <td>640.800000</td>\n",
       "      <td>15.547997</td>\n",
       "      <td>53.333333</td>\n",
       "    </tr>\n",
       "    <tr>\n",
       "      <th>3</th>\n",
       "      <td>1000</td>\n",
       "      <td>500</td>\n",
       "      <td>0.834633</td>\n",
       "      <td>645.500000</td>\n",
       "      <td>15.256410</td>\n",
       "      <td>115.333333</td>\n",
       "    </tr>\n",
       "    <tr>\n",
       "      <th>4</th>\n",
       "      <td>2000</td>\n",
       "      <td>1000</td>\n",
       "      <td>0.758767</td>\n",
       "      <td>1254.233333</td>\n",
       "      <td>15.893609</td>\n",
       "      <td>218.000000</td>\n",
       "    </tr>\n",
       "    <tr>\n",
       "      <th>5</th>\n",
       "      <td>2000</td>\n",
       "      <td>1500</td>\n",
       "      <td>0.725600</td>\n",
       "      <td>1264.233333</td>\n",
       "      <td>15.564477</td>\n",
       "      <td>316.666667</td>\n",
       "    </tr>\n",
       "    <tr>\n",
       "      <th>6</th>\n",
       "      <td>2000</td>\n",
       "      <td>200</td>\n",
       "      <td>0.782867</td>\n",
       "      <td>1223.500000</td>\n",
       "      <td>15.863086</td>\n",
       "      <td>51.333333</td>\n",
       "    </tr>\n",
       "    <tr>\n",
       "      <th>7</th>\n",
       "      <td>2000</td>\n",
       "      <td>500</td>\n",
       "      <td>0.831000</td>\n",
       "      <td>1256.166667</td>\n",
       "      <td>15.751744</td>\n",
       "      <td>114.000000</td>\n",
       "    </tr>\n",
       "    <tr>\n",
       "      <th>8</th>\n",
       "      <td>3000</td>\n",
       "      <td>1000</td>\n",
       "      <td>0.616067</td>\n",
       "      <td>1852.766667</td>\n",
       "      <td>16.083268</td>\n",
       "      <td>217.333333</td>\n",
       "    </tr>\n",
       "    <tr>\n",
       "      <th>9</th>\n",
       "      <td>3000</td>\n",
       "      <td>1500</td>\n",
       "      <td>0.608967</td>\n",
       "      <td>1882.000000</td>\n",
       "      <td>15.853728</td>\n",
       "      <td>325.333333</td>\n",
       "    </tr>\n",
       "    <tr>\n",
       "      <th>10</th>\n",
       "      <td>3000</td>\n",
       "      <td>200</td>\n",
       "      <td>0.761833</td>\n",
       "      <td>1890.900000</td>\n",
       "      <td>15.997055</td>\n",
       "      <td>54.000000</td>\n",
       "    </tr>\n",
       "    <tr>\n",
       "      <th>11</th>\n",
       "      <td>3000</td>\n",
       "      <td>500</td>\n",
       "      <td>0.768767</td>\n",
       "      <td>1858.166667</td>\n",
       "      <td>15.994903</td>\n",
       "      <td>114.000000</td>\n",
       "    </tr>\n",
       "  </tbody>\n",
       "</table>\n",
       "</div>"
      ],
      "text/plain": [
       "    iters  buffer_size  Accuracy  Training time (s)  GPU Usage (%)  \\\n",
       "0    1000         1000  0.766500         639.500000      15.413141   \n",
       "1    1000         1500  0.779933         640.533333      15.254087   \n",
       "2    1000          200  0.784200         640.800000      15.547997   \n",
       "3    1000          500  0.834633         645.500000      15.256410   \n",
       "4    2000         1000  0.758767        1254.233333      15.893609   \n",
       "5    2000         1500  0.725600        1264.233333      15.564477   \n",
       "6    2000          200  0.782867        1223.500000      15.863086   \n",
       "7    2000          500  0.831000        1256.166667      15.751744   \n",
       "8    3000         1000  0.616067        1852.766667      16.083268   \n",
       "9    3000         1500  0.608967        1882.000000      15.853728   \n",
       "10   3000          200  0.761833        1890.900000      15.997055   \n",
       "11   3000          500  0.768767        1858.166667      15.994903   \n",
       "\n",
       "    GPU Memory (MB)  \n",
       "0        216.000000  \n",
       "1        320.000000  \n",
       "2         53.333333  \n",
       "3        115.333333  \n",
       "4        218.000000  \n",
       "5        316.666667  \n",
       "6         51.333333  \n",
       "7        114.000000  \n",
       "8        217.333333  \n",
       "9        325.333333  \n",
       "10        54.000000  \n",
       "11       114.000000  "
      ]
     },
     "execution_count": 6,
     "metadata": {},
     "output_type": "execute_result"
    }
   ],
   "source": [
    "metrics = Metrics(logs)\n",
    "df = metrics.get_metrics_df()\n",
    "df"
   ]
  },
  {
   "cell_type": "markdown",
   "metadata": {},
   "source": [
    "# LR: Accuracy"
   ]
  },
  {
   "cell_type": "code",
   "execution_count": 7,
   "metadata": {},
   "outputs": [
    {
     "data": {
      "image/png": "[encoded data removed]",
      "text/plain": [
       "<Figure size 576x360 with 2 Axes>"
      ]
     },
     "metadata": {
      "needs_background": "light"
     },
     "output_type": "display_data"
    }
   ],
   "source": [
    "fig, ax = plt.subplots(figsize=(8, 5))         # Sample figsize in inches\n",
    "sns.heatmap(df.pivot('iters','buffer_size','Accuracy'), annot=True, linewidths=.5, ax=ax)\n",
    "\n",
    "# Source for the code below: https://github.com/mwaskom/seaborn/issues/1773\n",
    "b, t = plt.ylim() \n",
    "b += 0.5 \n",
    "t -= 0.5 \n",
    "plt.ylim(b, t) \n",
    "ax.invert_yaxis()\n",
    "\n",
    "plt.show() "
   ]
  },
  {
   "cell_type": "markdown",
   "metadata": {},
   "source": [
    "# LR: GPU Memory Consumption"
   ]
  },
  {
   "cell_type": "code",
   "execution_count": 8,
   "metadata": {},
   "outputs": [
    {
     "data": {
      "image/png": "[encoded data removed]",
      "text/plain": [
       "<Figure size 576x360 with 2 Axes>"
      ]
     },
     "metadata": {
      "needs_background": "light"
     },
     "output_type": "display_data"
    }
   ],
   "source": [
    "fig, ax = plt.subplots(figsize=(8, 5))         # Sample figsize in inches\n",
    "sns.heatmap(df.pivot('iters','buffer_size','GPU Memory (MB)'), annot=True, linewidths=.5, ax=ax)\n",
    "\n",
    "# Source for the code below: https://github.com/mwaskom/seaborn/issues/1773\n",
    "b, t = plt.ylim() \n",
    "b += 0.5 \n",
    "t -= 0.5 \n",
    "plt.ylim(b, t) \n",
    "ax.invert_yaxis()\n",
    "\n",
    "plt.show() "
   ]
  },
  {
   "cell_type": "markdown",
   "metadata": {},
   "source": [
    "# LR: Average GPU Usage (%)"
   ]
  },
  {
   "cell_type": "code",
   "execution_count": 9,
   "metadata": {},
   "outputs": [
    {
     "data": {
      "image/png": "[encoded data removed]",
      "text/plain": [
       "<Figure size 576x360 with 2 Axes>"
      ]
     },
     "metadata": {
      "needs_background": "light"
     },
     "output_type": "display_data"
    }
   ],
   "source": [
    "fig, ax = plt.subplots(figsize=(8, 5))         # Sample figsize in inches\n",
    "sns.heatmap(df.pivot('iters','buffer_size','GPU Usage (%)'), annot=True, linewidths=.5, ax=ax)\n",
    "\n",
    "# Source for the code below: https://github.com/mwaskom/seaborn/issues/1773\n",
    "b, t = plt.ylim() \n",
    "b += 0.5 \n",
    "t -= 0.5 \n",
    "plt.ylim(b, t) \n",
    "ax.invert_yaxis()\n",
    "\n",
    "plt.show() "
   ]
  },
  {
   "cell_type": "markdown",
   "metadata": {},
   "source": [
    "# New Results"
   ]
  },
  {
   "cell_type": "code",
   "execution_count": 2,
   "metadata": {},
   "outputs": [
    {
     "name": "stdout",
     "output_type": "stream",
     "text": [
      "/Users/samuilstoychev/Desktop/research_project_repo/research_project/experiments/vgg_lr_tuning/2021-04-30-15-22\n"
     ]
    }
   ],
   "source": [
    "%cd ../experiments/vgg_lr_tuning/2021-04-30-15-22/"
   ]
  },
  {
   "cell_type": "code",
   "execution_count": 3,
   "metadata": {},
   "outputs": [],
   "source": [
    "logs = !ls"
   ]
  },
  {
   "cell_type": "code",
   "execution_count": 6,
   "metadata": {},
   "outputs": [],
   "source": [
    "metrics = Metrics(logs)\n",
    "df = metrics.get_metrics_df()"
   ]
  },
  {
   "cell_type": "markdown",
   "metadata": {},
   "source": [
    "## Accuracy"
   ]
  },
  {
   "cell_type": "code",
   "execution_count": 7,
   "metadata": {},
   "outputs": [
    {
     "data": {
      "image/png": "[encoded data removed]",
      "text/plain": [
       "<Figure size 576x360 with 2 Axes>"
      ]
     },
     "metadata": {
      "needs_background": "light"
     },
     "output_type": "display_data"
    }
   ],
   "source": [
    "fig, ax = plt.subplots(figsize=(8, 5))         # Sample figsize in inches\n",
    "sns.heatmap(df.pivot('iters','buffer_size','Accuracy'), annot=True, linewidths=.5, ax=ax)\n",
    "\n",
    "# Source for the code below: https://github.com/mwaskom/seaborn/issues/1773\n",
    "b, t = plt.ylim() \n",
    "b += 0.5 \n",
    "t -= 0.5 \n",
    "plt.ylim(b, t) \n",
    "ax.invert_yaxis()\n",
    "\n",
    "plt.show() "
   ]
  },
  {
   "cell_type": "markdown",
   "metadata": {},
   "source": [
    "## GPU Memory "
   ]
  },
  {
   "cell_type": "code",
   "execution_count": 8,
   "metadata": {},
   "outputs": [
    {
     "data": {
      "image/png": "[encoded data removed]",
      "text/plain": [
       "<Figure size 576x360 with 2 Axes>"
      ]
     },
     "metadata": {
      "needs_background": "light"
     },
     "output_type": "display_data"
    }
   ],
   "source": [
    "fig, ax = plt.subplots(figsize=(8, 5))         # Sample figsize in inches\n",
    "sns.heatmap(df.pivot('iters','buffer_size','GPU Memory (MB)'), annot=True, linewidths=.5, ax=ax)\n",
    "\n",
    "# Source for the code below: https://github.com/mwaskom/seaborn/issues/1773\n",
    "b, t = plt.ylim() \n",
    "b += 0.5 \n",
    "t -= 0.5 \n",
    "plt.ylim(b, t) \n",
    "ax.invert_yaxis()\n",
    "\n",
    "plt.show() "
   ]
  },
  {
   "cell_type": "markdown",
   "metadata": {},
   "source": [
    "## Average GPU Usage"
   ]
  },
  {
   "cell_type": "code",
   "execution_count": 9,
   "metadata": {},
   "outputs": [
    {
     "data": {
      "image/png": "[encoded data removed]",
      "text/plain": [
       "<Figure size 576x360 with 2 Axes>"
      ]
     },
     "metadata": {
      "needs_background": "light"
     },
     "output_type": "display_data"
    }
   ],
   "source": [
    "fig, ax = plt.subplots(figsize=(8, 5))         # Sample figsize in inches\n",
    "sns.heatmap(df.pivot('iters','buffer_size','GPU Usage (%)'), annot=True, linewidths=.5, ax=ax)\n",
    "\n",
    "# Source for the code below: https://github.com/mwaskom/seaborn/issues/1773\n",
    "b, t = plt.ylim() \n",
    "b += 0.5 \n",
    "t -= 0.5 \n",
    "plt.ylim(b, t) \n",
    "ax.invert_yaxis()\n",
    "\n",
    "plt.show() "
   ]
  },
  {
   "cell_type": "code",
   "execution_count": null,
   "metadata": {},
   "outputs": [],
   "source": []
  }
 ],
 "metadata": {
  "kernelspec": {
   "display_name": "Python 3",
   "language": "python",
   "name": "python3"
  },
  "language_info": {
   "codemirror_mode": {
    "name": "ipython",
    "version": 3
   },
   "file_extension": ".py",
   "mimetype": "text/x-python",
   "name": "python",
   "nbconvert_exporter": "python",
   "pygments_lexer": "ipython3",
   "version": "3.7.4"
  }
 },
 "nbformat": 4,
 "nbformat_minor": 2
}
